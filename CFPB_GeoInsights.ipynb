{
 "cells": [
  {
   "cell_type": "markdown",
   "metadata": {},
   "source": [
    "# Choropleth map and more analysis of CFPB consumer complaint data, downloaded on January 30, 2019.\n",
    "\n",
    "Exploring the CFPB data.\n",
    "\n",
    "Data Source: https://www.consumerfinance.gov/data-research/consumer-complaints/"
   ]
  },
  {
   "cell_type": "code",
   "execution_count": 1,
   "metadata": {},
   "outputs": [],
   "source": [
    "# import the CFPB data and 3 digit zip code data\n",
    "import pandas as pd\n",
    "import numpy as np\n",
    "df_cfpb = pd.read_csv('Consumer_Complaints.csv',low_memory=False)"
   ]
  },
  {
   "cell_type": "code",
   "execution_count": 2,
   "metadata": {},
   "outputs": [],
   "source": [
    "df_zip = pd.read_excel('zipcode.xlsx')  # using 1st sheet for dataframe"
   ]
  },
  {
   "cell_type": "code",
   "execution_count": 3,
   "metadata": {},
   "outputs": [
    {
     "data": {
      "text/html": [
       "<div>\n",
       "<style scoped>\n",
       "    .dataframe tbody tr th:only-of-type {\n",
       "        vertical-align: middle;\n",
       "    }\n",
       "\n",
       "    .dataframe tbody tr th {\n",
       "        vertical-align: top;\n",
       "    }\n",
       "\n",
       "    .dataframe thead th {\n",
       "        text-align: right;\n",
       "    }\n",
       "</style>\n",
       "<table border=\"1\" class=\"dataframe\">\n",
       "  <thead>\n",
       "    <tr style=\"text-align: right;\">\n",
       "      <th></th>\n",
       "      <th>Date received</th>\n",
       "      <th>Product</th>\n",
       "      <th>Sub-product</th>\n",
       "      <th>Issue</th>\n",
       "      <th>Sub-issue</th>\n",
       "      <th>Consumer complaint narrative</th>\n",
       "      <th>Company public response</th>\n",
       "      <th>Company</th>\n",
       "      <th>State</th>\n",
       "      <th>ZIP code</th>\n",
       "      <th>Tags</th>\n",
       "      <th>Consumer consent provided?</th>\n",
       "      <th>Submitted via</th>\n",
       "      <th>Date sent to company</th>\n",
       "      <th>Company response to consumer</th>\n",
       "      <th>Timely response?</th>\n",
       "      <th>Consumer disputed?</th>\n",
       "      <th>Complaint ID</th>\n",
       "    </tr>\n",
       "  </thead>\n",
       "  <tbody>\n",
       "    <tr>\n",
       "      <th>0</th>\n",
       "      <td>01/30/2019</td>\n",
       "      <td>Checking or savings account</td>\n",
       "      <td>CD (Certificate of Deposit)</td>\n",
       "      <td>Managing an account</td>\n",
       "      <td>Funds not handled or disbursed as instructed</td>\n",
       "      <td>NaN</td>\n",
       "      <td>NaN</td>\n",
       "      <td>ALLY FINANCIAL INC.</td>\n",
       "      <td>ME</td>\n",
       "      <td>NaN</td>\n",
       "      <td>Older American</td>\n",
       "      <td>NaN</td>\n",
       "      <td>Web</td>\n",
       "      <td>01/30/2019</td>\n",
       "      <td>In progress</td>\n",
       "      <td>Yes</td>\n",
       "      <td>NaN</td>\n",
       "      <td>3137498</td>\n",
       "    </tr>\n",
       "  </tbody>\n",
       "</table>\n",
       "</div>"
      ],
      "text/plain": [
       "  Date received                      Product                  Sub-product  \\\n",
       "0    01/30/2019  Checking or savings account  CD (Certificate of Deposit)   \n",
       "\n",
       "                 Issue                                     Sub-issue  \\\n",
       "0  Managing an account  Funds not handled or disbursed as instructed   \n",
       "\n",
       "  Consumer complaint narrative Company public response              Company  \\\n",
       "0                          NaN                     NaN  ALLY FINANCIAL INC.   \n",
       "\n",
       "  State ZIP code            Tags Consumer consent provided? Submitted via  \\\n",
       "0    ME      NaN  Older American                        NaN           Web   \n",
       "\n",
       "  Date sent to company Company response to consumer Timely response?  \\\n",
       "0           01/30/2019                  In progress              Yes   \n",
       "\n",
       "  Consumer disputed?  Complaint ID  \n",
       "0                NaN       3137498  "
      ]
     },
     "execution_count": 3,
     "metadata": {},
     "output_type": "execute_result"
    }
   ],
   "source": [
    "# 1 line of CFPB data\n",
    "df_cfpb.head(1)"
   ]
  },
  {
   "cell_type": "code",
   "execution_count": 4,
   "metadata": {},
   "outputs": [
    {
     "data": {
      "text/html": [
       "<div>\n",
       "<style scoped>\n",
       "    .dataframe tbody tr th:only-of-type {\n",
       "        vertical-align: middle;\n",
       "    }\n",
       "\n",
       "    .dataframe tbody tr th {\n",
       "        vertical-align: top;\n",
       "    }\n",
       "\n",
       "    .dataframe thead th {\n",
       "        text-align: right;\n",
       "    }\n",
       "</style>\n",
       "<table border=\"1\" class=\"dataframe\">\n",
       "  <thead>\n",
       "    <tr style=\"text-align: right;\">\n",
       "      <th></th>\n",
       "      <th>prefix</th>\n",
       "      <th>3‑Digit Destinations</th>\n",
       "    </tr>\n",
       "  </thead>\n",
       "  <tbody>\n",
       "    <tr>\n",
       "      <th>0</th>\n",
       "      <td>005</td>\n",
       "      <td>MID-ISLAND NY 005</td>\n",
       "    </tr>\n",
       "    <tr>\n",
       "      <th>1</th>\n",
       "      <td>012</td>\n",
       "      <td>PITTSFIELD MA 012</td>\n",
       "    </tr>\n",
       "    <tr>\n",
       "      <th>2</th>\n",
       "      <td>016</td>\n",
       "      <td>WORCESTER MA 016U</td>\n",
       "    </tr>\n",
       "    <tr>\n",
       "      <th>3</th>\n",
       "      <td>017</td>\n",
       "      <td>CENTRAL MA 017</td>\n",
       "    </tr>\n",
       "    <tr>\n",
       "      <th>4</th>\n",
       "      <td>024</td>\n",
       "      <td>NORTHWEST BOS MA 024</td>\n",
       "    </tr>\n",
       "  </tbody>\n",
       "</table>\n",
       "</div>"
      ],
      "text/plain": [
       "  prefix  3‑Digit Destinations\n",
       "0    005     MID-ISLAND NY 005\n",
       "1    012     PITTSFIELD MA 012\n",
       "2    016     WORCESTER MA 016U\n",
       "3    017        CENTRAL MA 017\n",
       "4    024  NORTHWEST BOS MA 024"
      ]
     },
     "execution_count": 4,
     "metadata": {},
     "output_type": "execute_result"
    }
   ],
   "source": [
    "# 1st 5 of zipcode data\n",
    "df_zip.head()"
   ]
  },
  {
   "cell_type": "code",
   "execution_count": 5,
   "metadata": {},
   "outputs": [
    {
     "data": {
      "text/plain": [
       "Index(['Date received', 'Product', 'Sub-product', 'Issue', 'Sub-issue',\n",
       "       'Consumer complaint narrative', 'Company public response', 'Company',\n",
       "       'State', 'ZIP code', 'Tags', 'Consumer consent provided?',\n",
       "       'Submitted via', 'Date sent to company', 'Company response to consumer',\n",
       "       'Timely response?', 'Consumer disputed?', 'Complaint ID'],\n",
       "      dtype='object')"
      ]
     },
     "execution_count": 5,
     "metadata": {},
     "output_type": "execute_result"
    }
   ],
   "source": [
    "df_cfpb.columns"
   ]
  },
  {
   "cell_type": "code",
   "execution_count": 6,
   "metadata": {},
   "outputs": [],
   "source": [
    "# keep only the columns we need in CFPB data\n",
    "col_to_drop = ['Consumer complaint narrative','Company public response','Tags','Consumer consent provided?',\n",
    "              'Submitted via', 'Date sent to company', 'Company response to consumer',\n",
    "              'Timely response?', 'Consumer disputed?']\n",
    "df = df_cfpb.drop(col_to_drop,axis=1).copy()"
   ]
  },
  {
   "cell_type": "code",
   "execution_count": 7,
   "metadata": {},
   "outputs": [],
   "source": [
    "# change dates to datetime values and create year grouping\n",
    "from datetime import datetime\n",
    "df['Date'] = df['Date received'].apply(lambda x: datetime.strptime(x, '%m/%d/%Y'))\n",
    "df['Year'] = df['Date'].apply(lambda x: x.strftime('%Y')).copy()"
   ]
  },
  {
   "cell_type": "code",
   "execution_count": 8,
   "metadata": {},
   "outputs": [],
   "source": [
    "# keep only 2018 data and banks\n",
    "def company_type(x):\n",
    "    if x == 'EQUIFAX, INC.':\n",
    "        return 'Credit Union'\n",
    "    elif x == 'Experian Information Solutions Inc.':\n",
    "        return 'Credit Union'\n",
    "    elif x == 'TRANSUNION INTERMEDIATE HOLDINGS, INC.':\n",
    "        return 'Credit Union'\n",
    "    else:\n",
    "        return 'Bank'\n",
    "df['Type'] = df['Company'].apply(company_type)\n",
    "df_bb = df[(df['Type']=='Bank') & (df['Year'] == '2018')].copy()"
   ]
  },
  {
   "cell_type": "code",
   "execution_count": 9,
   "metadata": {},
   "outputs": [],
   "source": [
    "# Sort dates and reset index\n",
    "df_bb.sort_values(by='Date',ascending=True,inplace=True)\n",
    "df_bb.reset_index(inplace=True,drop=True)"
   ]
  },
  {
   "cell_type": "code",
   "execution_count": 10,
   "metadata": {},
   "outputs": [],
   "source": [
    "# create common zip code column for both dataframes\n",
    "df_bb['ZIP code'] = df_bb['ZIP code'].astype(str)\n",
    "df_bb['zip3'] = df_bb['ZIP code'].apply(lambda x: x[:3])\n",
    "df_zip['prefix'] = df_zip['prefix'].astype(str)\n",
    "df_zip['zip3'] = df_zip['prefix'].apply(lambda x: x[:3])"
   ]
  },
  {
   "cell_type": "code",
   "execution_count": 11,
   "metadata": {},
   "outputs": [
    {
     "data": {
      "text/html": [
       "<div>\n",
       "<style scoped>\n",
       "    .dataframe tbody tr th:only-of-type {\n",
       "        vertical-align: middle;\n",
       "    }\n",
       "\n",
       "    .dataframe tbody tr th {\n",
       "        vertical-align: top;\n",
       "    }\n",
       "\n",
       "    .dataframe thead th {\n",
       "        text-align: right;\n",
       "    }\n",
       "</style>\n",
       "<table border=\"1\" class=\"dataframe\">\n",
       "  <thead>\n",
       "    <tr style=\"text-align: right;\">\n",
       "      <th></th>\n",
       "      <th>Date received</th>\n",
       "      <th>Product</th>\n",
       "      <th>Sub-product</th>\n",
       "      <th>Issue</th>\n",
       "      <th>Sub-issue</th>\n",
       "      <th>Company</th>\n",
       "      <th>State</th>\n",
       "      <th>ZIP code</th>\n",
       "      <th>Complaint ID</th>\n",
       "      <th>Date</th>\n",
       "      <th>Year</th>\n",
       "      <th>Type</th>\n",
       "      <th>zip3</th>\n",
       "    </tr>\n",
       "  </thead>\n",
       "  <tbody>\n",
       "    <tr>\n",
       "      <th>0</th>\n",
       "      <td>01/01/2018</td>\n",
       "      <td>Debt collection</td>\n",
       "      <td>Credit card debt</td>\n",
       "      <td>Attempts to collect debt not owed</td>\n",
       "      <td>Debt was paid</td>\n",
       "      <td>SYNCHRONY FINANCIAL</td>\n",
       "      <td>TX</td>\n",
       "      <td>751XX</td>\n",
       "      <td>2768747</td>\n",
       "      <td>2018-01-01</td>\n",
       "      <td>2018</td>\n",
       "      <td>Bank</td>\n",
       "      <td>751</td>\n",
       "    </tr>\n",
       "  </tbody>\n",
       "</table>\n",
       "</div>"
      ],
      "text/plain": [
       "  Date received          Product       Sub-product  \\\n",
       "0    01/01/2018  Debt collection  Credit card debt   \n",
       "\n",
       "                               Issue      Sub-issue              Company  \\\n",
       "0  Attempts to collect debt not owed  Debt was paid  SYNCHRONY FINANCIAL   \n",
       "\n",
       "  State ZIP code  Complaint ID       Date  Year  Type zip3  \n",
       "0    TX    751XX       2768747 2018-01-01  2018  Bank  751  "
      ]
     },
     "execution_count": 11,
     "metadata": {},
     "output_type": "execute_result"
    }
   ],
   "source": [
    "# check if there is a new zip3 column\n",
    "df_bb.head(1)"
   ]
  },
  {
   "cell_type": "code",
   "execution_count": 12,
   "metadata": {},
   "outputs": [],
   "source": [
    "# set zip code file index to zip3 column just created and reset index for later mapping \n",
    "df_zip.set_index('zip3',inplace=True)\n",
    "df_zip.reset_index(inplace=True)"
   ]
  },
  {
   "cell_type": "code",
   "execution_count": 13,
   "metadata": {},
   "outputs": [
    {
     "data": {
      "text/html": [
       "<div>\n",
       "<style scoped>\n",
       "    .dataframe tbody tr th:only-of-type {\n",
       "        vertical-align: middle;\n",
       "    }\n",
       "\n",
       "    .dataframe tbody tr th {\n",
       "        vertical-align: top;\n",
       "    }\n",
       "\n",
       "    .dataframe thead th {\n",
       "        text-align: right;\n",
       "    }\n",
       "</style>\n",
       "<table border=\"1\" class=\"dataframe\">\n",
       "  <thead>\n",
       "    <tr style=\"text-align: right;\">\n",
       "      <th></th>\n",
       "      <th>zip3</th>\n",
       "      <th>prefix</th>\n",
       "      <th>3‑Digit Destinations</th>\n",
       "    </tr>\n",
       "  </thead>\n",
       "  <tbody>\n",
       "    <tr>\n",
       "      <th>0</th>\n",
       "      <td>005</td>\n",
       "      <td>005</td>\n",
       "      <td>MID-ISLAND NY 005</td>\n",
       "    </tr>\n",
       "  </tbody>\n",
       "</table>\n",
       "</div>"
      ],
      "text/plain": [
       "  zip3 prefix 3‑Digit Destinations\n",
       "0  005    005    MID-ISLAND NY 005"
      ]
     },
     "execution_count": 13,
     "metadata": {},
     "output_type": "execute_result"
    }
   ],
   "source": [
    "df_zip.head(1)"
   ]
  },
  {
   "cell_type": "code",
   "execution_count": 14,
   "metadata": {},
   "outputs": [],
   "source": [
    "# we don't need the prefix column\n",
    "df_zip.drop(columns='prefix',inplace=True)"
   ]
  },
  {
   "cell_type": "code",
   "execution_count": 15,
   "metadata": {},
   "outputs": [],
   "source": [
    "# map destination to zip code\n",
    "mapping = dict(df_zip[['zip3','3‑Digit Destinations']].values)\n",
    "df_bb['loc'] = df_bb.zip3.map(mapping)"
   ]
  },
  {
   "cell_type": "code",
   "execution_count": 16,
   "metadata": {},
   "outputs": [
    {
     "data": {
      "text/html": [
       "<div>\n",
       "<style scoped>\n",
       "    .dataframe tbody tr th:only-of-type {\n",
       "        vertical-align: middle;\n",
       "    }\n",
       "\n",
       "    .dataframe tbody tr th {\n",
       "        vertical-align: top;\n",
       "    }\n",
       "\n",
       "    .dataframe thead th {\n",
       "        text-align: right;\n",
       "    }\n",
       "</style>\n",
       "<table border=\"1\" class=\"dataframe\">\n",
       "  <thead>\n",
       "    <tr style=\"text-align: right;\">\n",
       "      <th></th>\n",
       "      <th>Date received</th>\n",
       "      <th>Product</th>\n",
       "      <th>Sub-product</th>\n",
       "      <th>Issue</th>\n",
       "      <th>Sub-issue</th>\n",
       "      <th>Company</th>\n",
       "      <th>State</th>\n",
       "      <th>ZIP code</th>\n",
       "      <th>Complaint ID</th>\n",
       "      <th>Date</th>\n",
       "      <th>Year</th>\n",
       "      <th>Type</th>\n",
       "      <th>zip3</th>\n",
       "      <th>loc</th>\n",
       "    </tr>\n",
       "  </thead>\n",
       "  <tbody>\n",
       "    <tr>\n",
       "      <th>0</th>\n",
       "      <td>01/01/2018</td>\n",
       "      <td>Debt collection</td>\n",
       "      <td>Credit card debt</td>\n",
       "      <td>Attempts to collect debt not owed</td>\n",
       "      <td>Debt was paid</td>\n",
       "      <td>SYNCHRONY FINANCIAL</td>\n",
       "      <td>TX</td>\n",
       "      <td>751XX</td>\n",
       "      <td>2768747</td>\n",
       "      <td>2018-01-01</td>\n",
       "      <td>2018</td>\n",
       "      <td>Bank</td>\n",
       "      <td>751</td>\n",
       "      <td>DALLAS TX 751</td>\n",
       "    </tr>\n",
       "    <tr>\n",
       "      <th>1</th>\n",
       "      <td>01/01/2018</td>\n",
       "      <td>Mortgage</td>\n",
       "      <td>FHA mortgage</td>\n",
       "      <td>Trouble during payment process</td>\n",
       "      <td>NaN</td>\n",
       "      <td>HOMEBRIDGE FINANCIAL SERVICES, INC.</td>\n",
       "      <td>PA</td>\n",
       "      <td>191XX</td>\n",
       "      <td>2768935</td>\n",
       "      <td>2018-01-01</td>\n",
       "      <td>2018</td>\n",
       "      <td>Bank</td>\n",
       "      <td>191</td>\n",
       "      <td>PHILADELPHIA PA 191U</td>\n",
       "    </tr>\n",
       "    <tr>\n",
       "      <th>2</th>\n",
       "      <td>01/01/2018</td>\n",
       "      <td>Money transfer, virtual currency, or money ser...</td>\n",
       "      <td>Mobile or digital wallet</td>\n",
       "      <td>Confusing or missing disclosures</td>\n",
       "      <td>NaN</td>\n",
       "      <td>Google Compare Credit Cards Inc.</td>\n",
       "      <td>NY</td>\n",
       "      <td>11516</td>\n",
       "      <td>2768555</td>\n",
       "      <td>2018-01-01</td>\n",
       "      <td>2018</td>\n",
       "      <td>Bank</td>\n",
       "      <td>115</td>\n",
       "      <td>WESTERN NASSAU NY 115</td>\n",
       "    </tr>\n",
       "  </tbody>\n",
       "</table>\n",
       "</div>"
      ],
      "text/plain": [
       "  Date received                                            Product  \\\n",
       "0    01/01/2018                                    Debt collection   \n",
       "1    01/01/2018                                           Mortgage   \n",
       "2    01/01/2018  Money transfer, virtual currency, or money ser...   \n",
       "\n",
       "                Sub-product                              Issue      Sub-issue  \\\n",
       "0          Credit card debt  Attempts to collect debt not owed  Debt was paid   \n",
       "1              FHA mortgage     Trouble during payment process            NaN   \n",
       "2  Mobile or digital wallet   Confusing or missing disclosures            NaN   \n",
       "\n",
       "                               Company State ZIP code  Complaint ID  \\\n",
       "0                  SYNCHRONY FINANCIAL    TX    751XX       2768747   \n",
       "1  HOMEBRIDGE FINANCIAL SERVICES, INC.    PA    191XX       2768935   \n",
       "2     Google Compare Credit Cards Inc.    NY    11516       2768555   \n",
       "\n",
       "        Date  Year  Type zip3                    loc  \n",
       "0 2018-01-01  2018  Bank  751          DALLAS TX 751  \n",
       "1 2018-01-01  2018  Bank  191   PHILADELPHIA PA 191U  \n",
       "2 2018-01-01  2018  Bank  115  WESTERN NASSAU NY 115  "
      ]
     },
     "execution_count": 16,
     "metadata": {},
     "output_type": "execute_result"
    }
   ],
   "source": [
    "# check if mapping worked\n",
    "df_bb.head(3)"
   ]
  },
  {
   "cell_type": "code",
   "execution_count": 17,
   "metadata": {},
   "outputs": [
    {
     "data": {
      "text/plain": [
       "25525"
      ]
     },
     "execution_count": 17,
     "metadata": {},
     "output_type": "execute_result"
    }
   ],
   "source": [
    "# how many nan data points in loc column\n",
    "df_bb[df_bb['loc'].isnull()]['Complaint ID'].count()       "
   ]
  },
  {
   "cell_type": "markdown",
   "metadata": {},
   "source": [
    "INFORMATION GATHERING"
   ]
  },
  {
   "cell_type": "code",
   "execution_count": 18,
   "metadata": {},
   "outputs": [
    {
     "data": {
      "text/plain": [
       "NORTH METRO GA 300     2695\n",
       "CHICAGO IL 606U        2106\n",
       "HOUSTON TX 770U        2101\n",
       "NORTH TEXAS TX 750     1907\n",
       "LOS ANGELES CA 900U    1826\n",
       "Name: loc, dtype: int64"
      ]
     },
     "execution_count": 18,
     "metadata": {},
     "output_type": "execute_result"
    }
   ],
   "source": [
    "# Top 5 metros with the most complaints \n",
    "df_bb['loc'].value_counts().head()"
   ]
  },
  {
   "cell_type": "code",
   "execution_count": 19,
   "metadata": {},
   "outputs": [
    {
     "data": {
      "text/plain": [
       "JPMORGAN CHASE & CO.                     8906\n",
       "WELLS FARGO & COMPANY                    8789\n",
       "BANK OF AMERICA, NATIONAL ASSOCIATION    8331\n",
       "CAPITAL ONE FINANCIAL CORPORATION        7680\n",
       "CITIBANK, N.A.                           7260\n",
       "Name: Company, dtype: int64"
      ]
     },
     "execution_count": 19,
     "metadata": {},
     "output_type": "execute_result"
    }
   ],
   "source": [
    "# Top 5 companies with the most complaints \n",
    "df_bb['Company'].value_counts().head()"
   ]
  },
  {
   "cell_type": "code",
   "execution_count": 20,
   "metadata": {},
   "outputs": [
    {
     "data": {
      "text/plain": [
       "300XX    1299\n",
       "770XX    1067\n",
       "750XX     955\n",
       "606XX     904\n",
       "900XX     838\n",
       "Name: ZIP code, dtype: int64"
      ]
     },
     "execution_count": 20,
     "metadata": {},
     "output_type": "execute_result"
    }
   ],
   "source": [
    "# Top 5 zip with the most complaints \n",
    "df_bb[df_bb['loc'].notnull()]['ZIP code'].value_counts().head()"
   ]
  },
  {
   "cell_type": "code",
   "execution_count": 21,
   "metadata": {},
   "outputs": [
    {
     "data": {
      "text/plain": [
       "CA    22178\n",
       "FL    16285\n",
       "TX    15081\n",
       "NY    11030\n",
       "GA     8392\n",
       "Name: State, dtype: int64"
      ]
     },
     "execution_count": 21,
     "metadata": {},
     "output_type": "execute_result"
    }
   ],
   "source": [
    "# Top 5 states with the most complaints \n",
    "df_bb['State'].value_counts().head()"
   ]
  },
  {
   "cell_type": "markdown",
   "metadata": {},
   "source": [
    "Examine the top issues for each product and other groupings"
   ]
  },
  {
   "cell_type": "code",
   "execution_count": 22,
   "metadata": {},
   "outputs": [
    {
     "data": {
      "text/plain": [
       "Debt collection                                                                 48502\n",
       "Credit reporting, credit repair services, or other personal consumer reports    26224\n",
       "Mortgage                                                                        24551\n",
       "Credit card or prepaid card                                                     24115\n",
       "Checking or savings account                                                     21225\n",
       "Student loan                                                                     8770\n",
       "Vehicle loan or lease                                                            5856\n",
       "Money transfer, virtual currency, or money service                               5427\n",
       "Payday loan, title loan, or personal loan                                        4362\n",
       "Name: Product, dtype: int64"
      ]
     },
     "execution_count": 22,
     "metadata": {},
     "output_type": "execute_result"
    }
   ],
   "source": [
    "df_bb['Product'].value_counts()"
   ]
  },
  {
   "cell_type": "code",
   "execution_count": 23,
   "metadata": {},
   "outputs": [
    {
     "data": {
      "text/plain": [
       "Trouble during payment process                                 11409\n",
       "Struggling to pay mortgage                                      8645\n",
       "Applying for a mortgage or refinancing an existing mortgage     1927\n",
       "Closing on a mortgage                                           1640\n",
       "Incorrect information on your report                             518\n",
       "Name: Issue, dtype: int64"
      ]
     },
     "execution_count": 23,
     "metadata": {},
     "output_type": "execute_result"
    }
   ],
   "source": [
    "df_bb[df_bb['Product'] == 'Mortgage']['Issue'].value_counts().head()"
   ]
  },
  {
   "cell_type": "code",
   "execution_count": 24,
   "metadata": {},
   "outputs": [
    {
     "data": {
      "text/plain": [
       "Problem with a purchase shown on your statement    5861\n",
       "Other features, terms, or problems                 3140\n",
       "Fees or interest                                   3135\n",
       "Problem when making payments                       2302\n",
       "Getting a credit card                              2225\n",
       "Name: Issue, dtype: int64"
      ]
     },
     "execution_count": 24,
     "metadata": {},
     "output_type": "execute_result"
    }
   ],
   "source": [
    "df_bb[df_bb['Product'] == 'Credit card or prepaid card']['Issue'].value_counts().head()"
   ]
  },
  {
   "cell_type": "code",
   "execution_count": 25,
   "metadata": {},
   "outputs": [
    {
     "data": {
      "text/plain": [
       "Attempts to collect debt not owed                      20235\n",
       "Written notification about debt                        12064\n",
       "Communication tactics                                   6014\n",
       "Took or threatened to take negative or legal action     4595\n",
       "False statements or representation                      4247\n",
       "Name: Issue, dtype: int64"
      ]
     },
     "execution_count": 25,
     "metadata": {},
     "output_type": "execute_result"
    }
   ],
   "source": [
    "df_bb[df_bb['Product'] == 'Debt collection']['Issue'].value_counts().head()"
   ]
  },
  {
   "cell_type": "code",
   "execution_count": 26,
   "metadata": {},
   "outputs": [
    {
     "data": {
      "text/plain": [
       "Incorrect information on your report                                                14501\n",
       "Improper use of your report                                                          5432\n",
       "Problem with a credit reporting company's investigation into an existing problem     5029\n",
       "Credit monitoring or identity theft protection services                               321\n",
       "Unable to get your credit report or credit score                                      250\n",
       "Name: Issue, dtype: int64"
      ]
     },
     "execution_count": 26,
     "metadata": {},
     "output_type": "execute_result"
    }
   ],
   "source": [
    "df_bb[df_bb['Product'] == 'Credit reporting, credit repair services, or other personal consumer reports'\n",
    "     ]['Issue'].value_counts().head()"
   ]
  },
  {
   "cell_type": "code",
   "execution_count": 27,
   "metadata": {},
   "outputs": [
    {
     "data": {
      "text/plain": [
       "Managing an account                                             13425\n",
       "Closing an account                                               2263\n",
       "Opening an account                                               1929\n",
       "Problem caused by your funds being low                           1812\n",
       "Problem with a lender or other company charging your account     1616\n",
       "Name: Issue, dtype: int64"
      ]
     },
     "execution_count": 27,
     "metadata": {},
     "output_type": "execute_result"
    }
   ],
   "source": [
    "df_bb[df_bb['Product'] == 'Checking or savings account']['Issue'].value_counts().head()"
   ]
  },
  {
   "cell_type": "code",
   "execution_count": 28,
   "metadata": {},
   "outputs": [
    {
     "data": {
      "text/plain": [
       "BANK OF AMERICA, NATIONAL ASSOCIATION    2260\n",
       "JPMORGAN CHASE & CO.                     1841\n",
       "WELLS FARGO & COMPANY                    1567\n",
       "CAPITAL ONE FINANCIAL CORPORATION         691\n",
       "CITIBANK, N.A.                            679\n",
       "Name: Company, dtype: int64"
      ]
     },
     "execution_count": 28,
     "metadata": {},
     "output_type": "execute_result"
    }
   ],
   "source": [
    "# top companies that have complaints managing an account\n",
    "df_bb[df_bb['Issue'] == 'Managing an account']['Company'].value_counts().head()"
   ]
  },
  {
   "cell_type": "code",
   "execution_count": 29,
   "metadata": {},
   "outputs": [
    {
     "data": {
      "text/plain": [
       "NEW YORK NY 100U      45\n",
       "BROOKLYN NY 112U      40\n",
       "OAKLAND CA 945        36\n",
       "NORTH TEXAS TX 750    32\n",
       "CHICAGO IL 606U       30\n",
       "Name: loc, dtype: int64"
      ]
     },
     "execution_count": 29,
     "metadata": {},
     "output_type": "execute_result"
    }
   ],
   "source": [
    "#top locations for fees or interest complaints\n",
    "df_bb[df_bb['Issue'] == 'Fees or interest']['loc'].value_counts().head()"
   ]
  },
  {
   "cell_type": "code",
   "execution_count": 30,
   "metadata": {},
   "outputs": [
    {
     "data": {
      "text/plain": [
       "NORTH METRO GA 300      194\n",
       "SOUTHERN MD MD 207      113\n",
       "SANTA ANA CA 926        108\n",
       "OAKLAND CA 945          104\n",
       "SOUTH FLORIDA FL 330    100\n",
       "Name: loc, dtype: int64"
      ]
     },
     "execution_count": 30,
     "metadata": {},
     "output_type": "execute_result"
    }
   ],
   "source": [
    "# Locations where struggling to pay mortgage is a complaint\n",
    "df_bb[df_bb['Issue'] == 'Struggling to pay mortgage']['loc'].value_counts().head()"
   ]
  },
  {
   "cell_type": "markdown",
   "metadata": {},
   "source": [
    "# Data Visualization"
   ]
  },
  {
   "cell_type": "code",
   "execution_count": 31,
   "metadata": {},
   "outputs": [],
   "source": [
    "# import plot libraries for visualizations\n",
    "import matplotlib.pyplot as plt\n",
    "import seaborn as sns\n",
    "sns.set_style('whitegrid')\n",
    "%matplotlib inline"
   ]
  },
  {
   "cell_type": "code",
   "execution_count": 63,
   "metadata": {},
   "outputs": [],
   "source": [
    "# create new dataframe with only mortgage product complaints for 2018\n",
    "df_mort = df_bb[df_bb['Product'] == 'Mortgage'].copy()"
   ]
  },
  {
   "cell_type": "code",
   "execution_count": 64,
   "metadata": {},
   "outputs": [],
   "source": [
    "# dataframe of total mortgage complaints by state\n",
    "compl_by_state = pd.pivot_table(df_mort,index=['State'], values=['Complaint ID'],aggfunc = len)"
   ]
  },
  {
   "cell_type": "code",
   "execution_count": 65,
   "metadata": {},
   "outputs": [
    {
     "data": {
      "text/html": [
       "<div>\n",
       "<style scoped>\n",
       "    .dataframe tbody tr th:only-of-type {\n",
       "        vertical-align: middle;\n",
       "    }\n",
       "\n",
       "    .dataframe tbody tr th {\n",
       "        vertical-align: top;\n",
       "    }\n",
       "\n",
       "    .dataframe thead th {\n",
       "        text-align: right;\n",
       "    }\n",
       "</style>\n",
       "<table border=\"1\" class=\"dataframe\">\n",
       "  <thead>\n",
       "    <tr style=\"text-align: right;\">\n",
       "      <th></th>\n",
       "      <th>Complaint ID</th>\n",
       "    </tr>\n",
       "    <tr>\n",
       "      <th>State</th>\n",
       "      <th></th>\n",
       "    </tr>\n",
       "  </thead>\n",
       "  <tbody>\n",
       "    <tr>\n",
       "      <th>AA</th>\n",
       "      <td>2</td>\n",
       "    </tr>\n",
       "    <tr>\n",
       "      <th>AE</th>\n",
       "      <td>7</td>\n",
       "    </tr>\n",
       "    <tr>\n",
       "      <th>AK</th>\n",
       "      <td>34</td>\n",
       "    </tr>\n",
       "    <tr>\n",
       "      <th>AL</th>\n",
       "      <td>224</td>\n",
       "    </tr>\n",
       "    <tr>\n",
       "      <th>AP</th>\n",
       "      <td>4</td>\n",
       "    </tr>\n",
       "  </tbody>\n",
       "</table>\n",
       "</div>"
      ],
      "text/plain": [
       "       Complaint ID\n",
       "State              \n",
       "AA                2\n",
       "AE                7\n",
       "AK               34\n",
       "AL              224\n",
       "AP                4"
      ]
     },
     "execution_count": 65,
     "metadata": {},
     "output_type": "execute_result"
    }
   ],
   "source": [
    "compl_by_state.head()"
   ]
  },
  {
   "cell_type": "code",
   "execution_count": 66,
   "metadata": {},
   "outputs": [],
   "source": [
    "compl_by_state.reset_index(inplace=True)"
   ]
  },
  {
   "cell_type": "code",
   "execution_count": 67,
   "metadata": {},
   "outputs": [],
   "source": [
    "# create pivot table at state and issue to figure out top issue for mortgages in that state\n",
    "top_issu = pd.pivot_table(df_mort,index=['State','Issue'], values=['Complaint ID'],aggfunc = len)"
   ]
  },
  {
   "cell_type": "code",
   "execution_count": 68,
   "metadata": {},
   "outputs": [],
   "source": [
    "top_issu = top_issu['Complaint ID'].unstack(0).T"
   ]
  },
  {
   "cell_type": "code",
   "execution_count": 69,
   "metadata": {},
   "outputs": [],
   "source": [
    "# Find issue by highest # of complaints\n",
    "top_issu['TopIss'] = top_issu.idxmax(axis=1)"
   ]
  },
  {
   "cell_type": "code",
   "execution_count": 70,
   "metadata": {},
   "outputs": [],
   "source": [
    "# find # of complaints for TopIss\n",
    "top_issu['Max'] = top_issu.max(axis=1)"
   ]
  },
  {
   "cell_type": "code",
   "execution_count": 71,
   "metadata": {},
   "outputs": [
    {
     "data": {
      "text/html": [
       "<div>\n",
       "<style scoped>\n",
       "    .dataframe tbody tr th:only-of-type {\n",
       "        vertical-align: middle;\n",
       "    }\n",
       "\n",
       "    .dataframe tbody tr th {\n",
       "        vertical-align: top;\n",
       "    }\n",
       "\n",
       "    .dataframe thead th {\n",
       "        text-align: right;\n",
       "    }\n",
       "</style>\n",
       "<table border=\"1\" class=\"dataframe\">\n",
       "  <thead>\n",
       "    <tr style=\"text-align: right;\">\n",
       "      <th>Issue</th>\n",
       "      <th>Applying for a mortgage</th>\n",
       "      <th>Applying for a mortgage or refinancing an existing mortgage</th>\n",
       "      <th>Closing on a mortgage</th>\n",
       "      <th>Credit monitoring or identity theft protection services</th>\n",
       "      <th>Improper use of your report</th>\n",
       "      <th>Incorrect information on your report</th>\n",
       "      <th>Problem with a credit reporting company's investigation into an existing problem</th>\n",
       "      <th>Problem with fraud alerts or security freezes</th>\n",
       "      <th>Struggling to pay mortgage</th>\n",
       "      <th>Trouble during payment process</th>\n",
       "      <th>Unable to get your credit report or credit score</th>\n",
       "      <th>TopIss</th>\n",
       "      <th>Max</th>\n",
       "    </tr>\n",
       "    <tr>\n",
       "      <th>State</th>\n",
       "      <th></th>\n",
       "      <th></th>\n",
       "      <th></th>\n",
       "      <th></th>\n",
       "      <th></th>\n",
       "      <th></th>\n",
       "      <th></th>\n",
       "      <th></th>\n",
       "      <th></th>\n",
       "      <th></th>\n",
       "      <th></th>\n",
       "      <th></th>\n",
       "      <th></th>\n",
       "    </tr>\n",
       "  </thead>\n",
       "  <tbody>\n",
       "    <tr>\n",
       "      <th>AA</th>\n",
       "      <td>NaN</td>\n",
       "      <td>NaN</td>\n",
       "      <td>NaN</td>\n",
       "      <td>NaN</td>\n",
       "      <td>NaN</td>\n",
       "      <td>NaN</td>\n",
       "      <td>NaN</td>\n",
       "      <td>NaN</td>\n",
       "      <td>NaN</td>\n",
       "      <td>2.0</td>\n",
       "      <td>NaN</td>\n",
       "      <td>Trouble during payment process</td>\n",
       "      <td>2.0</td>\n",
       "    </tr>\n",
       "    <tr>\n",
       "      <th>AE</th>\n",
       "      <td>NaN</td>\n",
       "      <td>NaN</td>\n",
       "      <td>NaN</td>\n",
       "      <td>NaN</td>\n",
       "      <td>NaN</td>\n",
       "      <td>NaN</td>\n",
       "      <td>NaN</td>\n",
       "      <td>NaN</td>\n",
       "      <td>2.0</td>\n",
       "      <td>5.0</td>\n",
       "      <td>NaN</td>\n",
       "      <td>Trouble during payment process</td>\n",
       "      <td>5.0</td>\n",
       "    </tr>\n",
       "    <tr>\n",
       "      <th>AK</th>\n",
       "      <td>1.0</td>\n",
       "      <td>2.0</td>\n",
       "      <td>4.0</td>\n",
       "      <td>NaN</td>\n",
       "      <td>NaN</td>\n",
       "      <td>NaN</td>\n",
       "      <td>1.0</td>\n",
       "      <td>NaN</td>\n",
       "      <td>13.0</td>\n",
       "      <td>13.0</td>\n",
       "      <td>NaN</td>\n",
       "      <td>Struggling to pay mortgage</td>\n",
       "      <td>13.0</td>\n",
       "    </tr>\n",
       "    <tr>\n",
       "      <th>AL</th>\n",
       "      <td>2.0</td>\n",
       "      <td>24.0</td>\n",
       "      <td>15.0</td>\n",
       "      <td>1.0</td>\n",
       "      <td>NaN</td>\n",
       "      <td>6.0</td>\n",
       "      <td>2.0</td>\n",
       "      <td>NaN</td>\n",
       "      <td>64.0</td>\n",
       "      <td>110.0</td>\n",
       "      <td>NaN</td>\n",
       "      <td>Trouble during payment process</td>\n",
       "      <td>110.0</td>\n",
       "    </tr>\n",
       "    <tr>\n",
       "      <th>AP</th>\n",
       "      <td>NaN</td>\n",
       "      <td>NaN</td>\n",
       "      <td>NaN</td>\n",
       "      <td>NaN</td>\n",
       "      <td>NaN</td>\n",
       "      <td>NaN</td>\n",
       "      <td>NaN</td>\n",
       "      <td>NaN</td>\n",
       "      <td>2.0</td>\n",
       "      <td>2.0</td>\n",
       "      <td>NaN</td>\n",
       "      <td>Struggling to pay mortgage</td>\n",
       "      <td>2.0</td>\n",
       "    </tr>\n",
       "  </tbody>\n",
       "</table>\n",
       "</div>"
      ],
      "text/plain": [
       "Issue  Applying for a mortgage  \\\n",
       "State                            \n",
       "AA                         NaN   \n",
       "AE                         NaN   \n",
       "AK                         1.0   \n",
       "AL                         2.0   \n",
       "AP                         NaN   \n",
       "\n",
       "Issue  Applying for a mortgage or refinancing an existing mortgage  \\\n",
       "State                                                                \n",
       "AA                                                   NaN             \n",
       "AE                                                   NaN             \n",
       "AK                                                   2.0             \n",
       "AL                                                  24.0             \n",
       "AP                                                   NaN             \n",
       "\n",
       "Issue  Closing on a mortgage  \\\n",
       "State                          \n",
       "AA                       NaN   \n",
       "AE                       NaN   \n",
       "AK                       4.0   \n",
       "AL                      15.0   \n",
       "AP                       NaN   \n",
       "\n",
       "Issue  Credit monitoring or identity theft protection services  \\\n",
       "State                                                            \n",
       "AA                                                   NaN         \n",
       "AE                                                   NaN         \n",
       "AK                                                   NaN         \n",
       "AL                                                   1.0         \n",
       "AP                                                   NaN         \n",
       "\n",
       "Issue  Improper use of your report  Incorrect information on your report  \\\n",
       "State                                                                      \n",
       "AA                             NaN                                   NaN   \n",
       "AE                             NaN                                   NaN   \n",
       "AK                             NaN                                   NaN   \n",
       "AL                             NaN                                   6.0   \n",
       "AP                             NaN                                   NaN   \n",
       "\n",
       "Issue  Problem with a credit reporting company's investigation into an existing problem  \\\n",
       "State                                                                                     \n",
       "AA                                                   NaN                                  \n",
       "AE                                                   NaN                                  \n",
       "AK                                                   1.0                                  \n",
       "AL                                                   2.0                                  \n",
       "AP                                                   NaN                                  \n",
       "\n",
       "Issue  Problem with fraud alerts or security freezes  \\\n",
       "State                                                  \n",
       "AA                                               NaN   \n",
       "AE                                               NaN   \n",
       "AK                                               NaN   \n",
       "AL                                               NaN   \n",
       "AP                                               NaN   \n",
       "\n",
       "Issue  Struggling to pay mortgage  Trouble during payment process  \\\n",
       "State                                                               \n",
       "AA                            NaN                             2.0   \n",
       "AE                            2.0                             5.0   \n",
       "AK                           13.0                            13.0   \n",
       "AL                           64.0                           110.0   \n",
       "AP                            2.0                             2.0   \n",
       "\n",
       "Issue  Unable to get your credit report or credit score  \\\n",
       "State                                                     \n",
       "AA                                                  NaN   \n",
       "AE                                                  NaN   \n",
       "AK                                                  NaN   \n",
       "AL                                                  NaN   \n",
       "AP                                                  NaN   \n",
       "\n",
       "Issue                          TopIss    Max  \n",
       "State                                         \n",
       "AA     Trouble during payment process    2.0  \n",
       "AE     Trouble during payment process    5.0  \n",
       "AK         Struggling to pay mortgage   13.0  \n",
       "AL     Trouble during payment process  110.0  \n",
       "AP         Struggling to pay mortgage    2.0  "
      ]
     },
     "execution_count": 71,
     "metadata": {},
     "output_type": "execute_result"
    }
   ],
   "source": [
    "top_issu.head()"
   ]
  },
  {
   "cell_type": "code",
   "execution_count": 72,
   "metadata": {},
   "outputs": [],
   "source": [
    "top_issu.reset_index(inplace=True)"
   ]
  },
  {
   "cell_type": "code",
   "execution_count": 73,
   "metadata": {},
   "outputs": [
    {
     "data": {
      "text/plain": [
       "Index(['State', 'Applying for a mortgage',\n",
       "       'Applying for a mortgage or refinancing an existing mortgage',\n",
       "       'Closing on a mortgage',\n",
       "       'Credit monitoring or identity theft protection services',\n",
       "       'Improper use of your report', 'Incorrect information on your report',\n",
       "       'Problem with a credit reporting company's investigation into an existing problem',\n",
       "       'Problem with fraud alerts or security freezes',\n",
       "       'Struggling to pay mortgage', 'Trouble during payment process',\n",
       "       'Unable to get your credit report or credit score', 'TopIss', 'Max'],\n",
       "      dtype='object', name='Issue')"
      ]
     },
     "execution_count": 73,
     "metadata": {},
     "output_type": "execute_result"
    }
   ],
   "source": [
    "top_issu.columns"
   ]
  },
  {
   "cell_type": "code",
   "execution_count": 74,
   "metadata": {},
   "outputs": [],
   "source": [
    "# add new column - tot # of mortgage product complaints by state\n",
    "data_tot_compl = dict(compl_by_state[['State','Complaint ID']].values)\n",
    "top_issu['totCompl'] = top_issu.State.map(data_tot_compl)"
   ]
  },
  {
   "cell_type": "code",
   "execution_count": 75,
   "metadata": {},
   "outputs": [],
   "source": [
    "top_issu.sort_values(by='totCompl',inplace=True,ascending=False)"
   ]
  },
  {
   "cell_type": "code",
   "execution_count": 76,
   "metadata": {},
   "outputs": [],
   "source": [
    "top_issu['MaxPerc'] = top_issu['Max'] / top_issu['totCompl'] * 100"
   ]
  },
  {
   "cell_type": "code",
   "execution_count": 77,
   "metadata": {},
   "outputs": [],
   "source": [
    "top_issu.sort_values(by='totCompl',inplace=True,ascending=False)\n",
    "top_issu.reset_index(drop=True,inplace=True)"
   ]
  },
  {
   "cell_type": "code",
   "execution_count": 78,
   "metadata": {},
   "outputs": [
    {
     "data": {
      "text/html": [
       "<div>\n",
       "<style scoped>\n",
       "    .dataframe tbody tr th:only-of-type {\n",
       "        vertical-align: middle;\n",
       "    }\n",
       "\n",
       "    .dataframe tbody tr th {\n",
       "        vertical-align: top;\n",
       "    }\n",
       "\n",
       "    .dataframe thead th {\n",
       "        text-align: right;\n",
       "    }\n",
       "</style>\n",
       "<table border=\"1\" class=\"dataframe\">\n",
       "  <thead>\n",
       "    <tr style=\"text-align: right;\">\n",
       "      <th>Issue</th>\n",
       "      <th>State</th>\n",
       "      <th>Applying for a mortgage</th>\n",
       "      <th>Applying for a mortgage or refinancing an existing mortgage</th>\n",
       "      <th>Closing on a mortgage</th>\n",
       "      <th>Credit monitoring or identity theft protection services</th>\n",
       "      <th>Improper use of your report</th>\n",
       "      <th>Incorrect information on your report</th>\n",
       "      <th>Problem with a credit reporting company's investigation into an existing problem</th>\n",
       "      <th>Problem with fraud alerts or security freezes</th>\n",
       "      <th>Struggling to pay mortgage</th>\n",
       "      <th>Trouble during payment process</th>\n",
       "      <th>Unable to get your credit report or credit score</th>\n",
       "      <th>TopIss</th>\n",
       "      <th>Max</th>\n",
       "      <th>totCompl</th>\n",
       "      <th>MaxPerc</th>\n",
       "    </tr>\n",
       "  </thead>\n",
       "  <tbody>\n",
       "    <tr>\n",
       "      <th>0</th>\n",
       "      <td>CA</td>\n",
       "      <td>29.0</td>\n",
       "      <td>299.0</td>\n",
       "      <td>231.0</td>\n",
       "      <td>4.0</td>\n",
       "      <td>6.0</td>\n",
       "      <td>60.0</td>\n",
       "      <td>20.0</td>\n",
       "      <td>1.0</td>\n",
       "      <td>1479.0</td>\n",
       "      <td>1497.0</td>\n",
       "      <td>2.0</td>\n",
       "      <td>Trouble during payment process</td>\n",
       "      <td>1497.0</td>\n",
       "      <td>3628</td>\n",
       "      <td>41.262404</td>\n",
       "    </tr>\n",
       "    <tr>\n",
       "      <th>1</th>\n",
       "      <td>FL</td>\n",
       "      <td>24.0</td>\n",
       "      <td>217.0</td>\n",
       "      <td>162.0</td>\n",
       "      <td>1.0</td>\n",
       "      <td>3.0</td>\n",
       "      <td>68.0</td>\n",
       "      <td>13.0</td>\n",
       "      <td>NaN</td>\n",
       "      <td>718.0</td>\n",
       "      <td>1236.0</td>\n",
       "      <td>NaN</td>\n",
       "      <td>Trouble during payment process</td>\n",
       "      <td>1236.0</td>\n",
       "      <td>2442</td>\n",
       "      <td>50.614251</td>\n",
       "    </tr>\n",
       "    <tr>\n",
       "      <th>2</th>\n",
       "      <td>TX</td>\n",
       "      <td>10.0</td>\n",
       "      <td>133.0</td>\n",
       "      <td>127.0</td>\n",
       "      <td>NaN</td>\n",
       "      <td>2.0</td>\n",
       "      <td>49.0</td>\n",
       "      <td>8.0</td>\n",
       "      <td>NaN</td>\n",
       "      <td>523.0</td>\n",
       "      <td>767.0</td>\n",
       "      <td>2.0</td>\n",
       "      <td>Trouble during payment process</td>\n",
       "      <td>767.0</td>\n",
       "      <td>1621</td>\n",
       "      <td>47.316471</td>\n",
       "    </tr>\n",
       "    <tr>\n",
       "      <th>3</th>\n",
       "      <td>NY</td>\n",
       "      <td>15.0</td>\n",
       "      <td>89.0</td>\n",
       "      <td>118.0</td>\n",
       "      <td>NaN</td>\n",
       "      <td>2.0</td>\n",
       "      <td>26.0</td>\n",
       "      <td>9.0</td>\n",
       "      <td>NaN</td>\n",
       "      <td>622.0</td>\n",
       "      <td>645.0</td>\n",
       "      <td>NaN</td>\n",
       "      <td>Trouble during payment process</td>\n",
       "      <td>645.0</td>\n",
       "      <td>1526</td>\n",
       "      <td>42.267366</td>\n",
       "    </tr>\n",
       "    <tr>\n",
       "      <th>4</th>\n",
       "      <td>NJ</td>\n",
       "      <td>11.0</td>\n",
       "      <td>78.0</td>\n",
       "      <td>47.0</td>\n",
       "      <td>NaN</td>\n",
       "      <td>NaN</td>\n",
       "      <td>19.0</td>\n",
       "      <td>3.0</td>\n",
       "      <td>NaN</td>\n",
       "      <td>473.0</td>\n",
       "      <td>558.0</td>\n",
       "      <td>NaN</td>\n",
       "      <td>Trouble during payment process</td>\n",
       "      <td>558.0</td>\n",
       "      <td>1189</td>\n",
       "      <td>46.930193</td>\n",
       "    </tr>\n",
       "  </tbody>\n",
       "</table>\n",
       "</div>"
      ],
      "text/plain": [
       "Issue State  Applying for a mortgage  \\\n",
       "0        CA                     29.0   \n",
       "1        FL                     24.0   \n",
       "2        TX                     10.0   \n",
       "3        NY                     15.0   \n",
       "4        NJ                     11.0   \n",
       "\n",
       "Issue  Applying for a mortgage or refinancing an existing mortgage  \\\n",
       "0                                                  299.0             \n",
       "1                                                  217.0             \n",
       "2                                                  133.0             \n",
       "3                                                   89.0             \n",
       "4                                                   78.0             \n",
       "\n",
       "Issue  Closing on a mortgage  \\\n",
       "0                      231.0   \n",
       "1                      162.0   \n",
       "2                      127.0   \n",
       "3                      118.0   \n",
       "4                       47.0   \n",
       "\n",
       "Issue  Credit monitoring or identity theft protection services  \\\n",
       "0                                                    4.0         \n",
       "1                                                    1.0         \n",
       "2                                                    NaN         \n",
       "3                                                    NaN         \n",
       "4                                                    NaN         \n",
       "\n",
       "Issue  Improper use of your report  Incorrect information on your report  \\\n",
       "0                              6.0                                  60.0   \n",
       "1                              3.0                                  68.0   \n",
       "2                              2.0                                  49.0   \n",
       "3                              2.0                                  26.0   \n",
       "4                              NaN                                  19.0   \n",
       "\n",
       "Issue  Problem with a credit reporting company's investigation into an existing problem  \\\n",
       "0                                                   20.0                                  \n",
       "1                                                   13.0                                  \n",
       "2                                                    8.0                                  \n",
       "3                                                    9.0                                  \n",
       "4                                                    3.0                                  \n",
       "\n",
       "Issue  Problem with fraud alerts or security freezes  \\\n",
       "0                                                1.0   \n",
       "1                                                NaN   \n",
       "2                                                NaN   \n",
       "3                                                NaN   \n",
       "4                                                NaN   \n",
       "\n",
       "Issue  Struggling to pay mortgage  Trouble during payment process  \\\n",
       "0                          1479.0                          1497.0   \n",
       "1                           718.0                          1236.0   \n",
       "2                           523.0                           767.0   \n",
       "3                           622.0                           645.0   \n",
       "4                           473.0                           558.0   \n",
       "\n",
       "Issue  Unable to get your credit report or credit score  \\\n",
       "0                                                   2.0   \n",
       "1                                                   NaN   \n",
       "2                                                   2.0   \n",
       "3                                                   NaN   \n",
       "4                                                   NaN   \n",
       "\n",
       "Issue                          TopIss     Max  totCompl    MaxPerc  \n",
       "0      Trouble during payment process  1497.0      3628  41.262404  \n",
       "1      Trouble during payment process  1236.0      2442  50.614251  \n",
       "2      Trouble during payment process   767.0      1621  47.316471  \n",
       "3      Trouble during payment process   645.0      1526  42.267366  \n",
       "4      Trouble during payment process   558.0      1189  46.930193  "
      ]
     },
     "execution_count": 78,
     "metadata": {},
     "output_type": "execute_result"
    }
   ],
   "source": [
    "# check if we added new columns correctly of total complaints for each state and top issue as % of total compl\n",
    "top_issu.head()"
   ]
  },
  {
   "cell_type": "code",
   "execution_count": 79,
   "metadata": {},
   "outputs": [],
   "source": [
    "# create top location for mortgage complaints\n",
    "top_loc = pd.pivot_table(df_mort,index=['State','loc'], values=['Complaint ID'],aggfunc = len)"
   ]
  },
  {
   "cell_type": "code",
   "execution_count": 80,
   "metadata": {},
   "outputs": [],
   "source": [
    "top_loc = top_loc['Complaint ID'].unstack(0).T\n",
    "# Find loc by highest # of complaints\n",
    "top_loc['Toploc'] = top_loc.idxmax(axis=1)\n",
    "# find # of complaints for Top location\n",
    "top_loc['Max'] = top_loc.max(axis=1)"
   ]
  },
  {
   "cell_type": "code",
   "execution_count": 81,
   "metadata": {},
   "outputs": [],
   "source": [
    "top_loc.reset_index(inplace=True)"
   ]
  },
  {
   "cell_type": "code",
   "execution_count": 82,
   "metadata": {},
   "outputs": [
    {
     "data": {
      "text/html": [
       "<div>\n",
       "<style scoped>\n",
       "    .dataframe tbody tr th:only-of-type {\n",
       "        vertical-align: middle;\n",
       "    }\n",
       "\n",
       "    .dataframe tbody tr th {\n",
       "        vertical-align: top;\n",
       "    }\n",
       "\n",
       "    .dataframe thead th {\n",
       "        text-align: right;\n",
       "    }\n",
       "</style>\n",
       "<table border=\"1\" class=\"dataframe\">\n",
       "  <thead>\n",
       "    <tr style=\"text-align: right;\">\n",
       "      <th>loc</th>\n",
       "      <th>State</th>\n",
       "      <th>ABILENE TX 768</th>\n",
       "      <th>ABILENE TX 796U</th>\n",
       "      <th>AKRON OH 442</th>\n",
       "      <th>AKRON OH 443U</th>\n",
       "      <th>ALAMOGORDO NM 883</th>\n",
       "      <th>ALAMOSA CO 811</th>\n",
       "      <th>ALBANY GA 317</th>\n",
       "      <th>ALBANY GA 398</th>\n",
       "      <th>ALBANY NY 120</th>\n",
       "      <th>...</th>\n",
       "      <th>WORLAND WY 824</th>\n",
       "      <th>YAKIMA WA 989</th>\n",
       "      <th>YONKERS NY 107U</th>\n",
       "      <th>YORK PA 174U</th>\n",
       "      <th>YOUNGSTOWN OH 444</th>\n",
       "      <th>YOUNGSTOWN OH 445U</th>\n",
       "      <th>ZANESVILLE OH 437</th>\n",
       "      <th>ZANESVILLE OH 438</th>\n",
       "      <th>Toploc</th>\n",
       "      <th>Max</th>\n",
       "    </tr>\n",
       "  </thead>\n",
       "  <tbody>\n",
       "    <tr>\n",
       "      <th>0</th>\n",
       "      <td>AA</td>\n",
       "      <td>NaN</td>\n",
       "      <td>NaN</td>\n",
       "      <td>NaN</td>\n",
       "      <td>NaN</td>\n",
       "      <td>NaN</td>\n",
       "      <td>NaN</td>\n",
       "      <td>NaN</td>\n",
       "      <td>NaN</td>\n",
       "      <td>NaN</td>\n",
       "      <td>...</td>\n",
       "      <td>NaN</td>\n",
       "      <td>NaN</td>\n",
       "      <td>NaN</td>\n",
       "      <td>NaN</td>\n",
       "      <td>NaN</td>\n",
       "      <td>NaN</td>\n",
       "      <td>NaN</td>\n",
       "      <td>NaN</td>\n",
       "      <td>APO/FPO AA 340</td>\n",
       "      <td>1.0</td>\n",
       "    </tr>\n",
       "    <tr>\n",
       "      <th>1</th>\n",
       "      <td>AE</td>\n",
       "      <td>NaN</td>\n",
       "      <td>NaN</td>\n",
       "      <td>NaN</td>\n",
       "      <td>NaN</td>\n",
       "      <td>NaN</td>\n",
       "      <td>NaN</td>\n",
       "      <td>NaN</td>\n",
       "      <td>NaN</td>\n",
       "      <td>NaN</td>\n",
       "      <td>...</td>\n",
       "      <td>NaN</td>\n",
       "      <td>NaN</td>\n",
       "      <td>NaN</td>\n",
       "      <td>NaN</td>\n",
       "      <td>NaN</td>\n",
       "      <td>NaN</td>\n",
       "      <td>NaN</td>\n",
       "      <td>NaN</td>\n",
       "      <td>APO/FPO AE 096</td>\n",
       "      <td>2.0</td>\n",
       "    </tr>\n",
       "    <tr>\n",
       "      <th>2</th>\n",
       "      <td>AK</td>\n",
       "      <td>NaN</td>\n",
       "      <td>NaN</td>\n",
       "      <td>NaN</td>\n",
       "      <td>NaN</td>\n",
       "      <td>NaN</td>\n",
       "      <td>NaN</td>\n",
       "      <td>NaN</td>\n",
       "      <td>NaN</td>\n",
       "      <td>NaN</td>\n",
       "      <td>...</td>\n",
       "      <td>NaN</td>\n",
       "      <td>NaN</td>\n",
       "      <td>NaN</td>\n",
       "      <td>NaN</td>\n",
       "      <td>NaN</td>\n",
       "      <td>NaN</td>\n",
       "      <td>NaN</td>\n",
       "      <td>NaN</td>\n",
       "      <td>ANCHORAGE AK 995</td>\n",
       "      <td>15.0</td>\n",
       "    </tr>\n",
       "    <tr>\n",
       "      <th>3</th>\n",
       "      <td>AL</td>\n",
       "      <td>NaN</td>\n",
       "      <td>NaN</td>\n",
       "      <td>NaN</td>\n",
       "      <td>NaN</td>\n",
       "      <td>NaN</td>\n",
       "      <td>NaN</td>\n",
       "      <td>NaN</td>\n",
       "      <td>NaN</td>\n",
       "      <td>NaN</td>\n",
       "      <td>...</td>\n",
       "      <td>NaN</td>\n",
       "      <td>NaN</td>\n",
       "      <td>NaN</td>\n",
       "      <td>NaN</td>\n",
       "      <td>NaN</td>\n",
       "      <td>NaN</td>\n",
       "      <td>NaN</td>\n",
       "      <td>NaN</td>\n",
       "      <td>MOBILE AL 365</td>\n",
       "      <td>18.0</td>\n",
       "    </tr>\n",
       "    <tr>\n",
       "      <th>4</th>\n",
       "      <td>AP</td>\n",
       "      <td>NaN</td>\n",
       "      <td>NaN</td>\n",
       "      <td>NaN</td>\n",
       "      <td>NaN</td>\n",
       "      <td>NaN</td>\n",
       "      <td>NaN</td>\n",
       "      <td>NaN</td>\n",
       "      <td>NaN</td>\n",
       "      <td>NaN</td>\n",
       "      <td>...</td>\n",
       "      <td>NaN</td>\n",
       "      <td>NaN</td>\n",
       "      <td>NaN</td>\n",
       "      <td>NaN</td>\n",
       "      <td>NaN</td>\n",
       "      <td>NaN</td>\n",
       "      <td>NaN</td>\n",
       "      <td>NaN</td>\n",
       "      <td>APO/FPO AP 962</td>\n",
       "      <td>3.0</td>\n",
       "    </tr>\n",
       "  </tbody>\n",
       "</table>\n",
       "<p>5 rows × 787 columns</p>\n",
       "</div>"
      ],
      "text/plain": [
       "loc State  ABILENE TX 768  ABILENE TX 796U  AKRON OH 442  AKRON OH 443U  \\\n",
       "0      AA             NaN              NaN           NaN            NaN   \n",
       "1      AE             NaN              NaN           NaN            NaN   \n",
       "2      AK             NaN              NaN           NaN            NaN   \n",
       "3      AL             NaN              NaN           NaN            NaN   \n",
       "4      AP             NaN              NaN           NaN            NaN   \n",
       "\n",
       "loc  ALAMOGORDO NM 883  ALAMOSA CO 811  ALBANY GA 317  ALBANY GA 398  \\\n",
       "0                  NaN             NaN            NaN            NaN   \n",
       "1                  NaN             NaN            NaN            NaN   \n",
       "2                  NaN             NaN            NaN            NaN   \n",
       "3                  NaN             NaN            NaN            NaN   \n",
       "4                  NaN             NaN            NaN            NaN   \n",
       "\n",
       "loc  ALBANY NY 120  ...   WORLAND WY 824  YAKIMA WA 989  YONKERS NY 107U  \\\n",
       "0              NaN  ...              NaN            NaN              NaN   \n",
       "1              NaN  ...              NaN            NaN              NaN   \n",
       "2              NaN  ...              NaN            NaN              NaN   \n",
       "3              NaN  ...              NaN            NaN              NaN   \n",
       "4              NaN  ...              NaN            NaN              NaN   \n",
       "\n",
       "loc  YORK PA 174U  YOUNGSTOWN OH 444  YOUNGSTOWN OH 445U  ZANESVILLE OH 437  \\\n",
       "0             NaN                NaN                 NaN                NaN   \n",
       "1             NaN                NaN                 NaN                NaN   \n",
       "2             NaN                NaN                 NaN                NaN   \n",
       "3             NaN                NaN                 NaN                NaN   \n",
       "4             NaN                NaN                 NaN                NaN   \n",
       "\n",
       "loc  ZANESVILLE OH 438            Toploc   Max  \n",
       "0                  NaN    APO/FPO AA 340   1.0  \n",
       "1                  NaN    APO/FPO AE 096   2.0  \n",
       "2                  NaN  ANCHORAGE AK 995  15.0  \n",
       "3                  NaN     MOBILE AL 365  18.0  \n",
       "4                  NaN    APO/FPO AP 962   3.0  \n",
       "\n",
       "[5 rows x 787 columns]"
      ]
     },
     "execution_count": 82,
     "metadata": {},
     "output_type": "execute_result"
    }
   ],
   "source": [
    "top_loc.head()"
   ]
  },
  {
   "cell_type": "code",
   "execution_count": 83,
   "metadata": {},
   "outputs": [
    {
     "data": {
      "text/plain": [
       "Index(['State', 'ABILENE TX 768', 'ABILENE TX 796U', 'AKRON OH 442',\n",
       "       'AKRON OH 443U', 'ALAMOGORDO NM 883', 'ALAMOSA CO 811', 'ALBANY GA 317',\n",
       "       'ALBANY GA 398', 'ALBANY NY 120',\n",
       "       ...\n",
       "       'WORLAND WY 824', 'YAKIMA WA 989', 'YONKERS NY 107U', 'YORK PA 174U',\n",
       "       'YOUNGSTOWN OH 444', 'YOUNGSTOWN OH 445U', 'ZANESVILLE OH 437',\n",
       "       'ZANESVILLE OH 438', 'Toploc', 'Max'],\n",
       "      dtype='object', name='loc', length=787)"
      ]
     },
     "execution_count": 83,
     "metadata": {},
     "output_type": "execute_result"
    }
   ],
   "source": [
    "top_loc.columns"
   ]
  },
  {
   "cell_type": "code",
   "execution_count": 84,
   "metadata": {},
   "outputs": [],
   "source": [
    "# create new dataframe with 1st, 2nd to last and last columns\n",
    "location = top_loc.iloc[:,[0,-2]]"
   ]
  },
  {
   "cell_type": "code",
   "execution_count": 85,
   "metadata": {},
   "outputs": [
    {
     "data": {
      "text/html": [
       "<div>\n",
       "<style scoped>\n",
       "    .dataframe tbody tr th:only-of-type {\n",
       "        vertical-align: middle;\n",
       "    }\n",
       "\n",
       "    .dataframe tbody tr th {\n",
       "        vertical-align: top;\n",
       "    }\n",
       "\n",
       "    .dataframe thead th {\n",
       "        text-align: right;\n",
       "    }\n",
       "</style>\n",
       "<table border=\"1\" class=\"dataframe\">\n",
       "  <thead>\n",
       "    <tr style=\"text-align: right;\">\n",
       "      <th>loc</th>\n",
       "      <th>State</th>\n",
       "      <th>Toploc</th>\n",
       "    </tr>\n",
       "  </thead>\n",
       "  <tbody>\n",
       "    <tr>\n",
       "      <th>0</th>\n",
       "      <td>AA</td>\n",
       "      <td>APO/FPO AA 340</td>\n",
       "    </tr>\n",
       "    <tr>\n",
       "      <th>1</th>\n",
       "      <td>AE</td>\n",
       "      <td>APO/FPO AE 096</td>\n",
       "    </tr>\n",
       "  </tbody>\n",
       "</table>\n",
       "</div>"
      ],
      "text/plain": [
       "loc State          Toploc\n",
       "0      AA  APO/FPO AA 340\n",
       "1      AE  APO/FPO AE 096"
      ]
     },
     "execution_count": 85,
     "metadata": {},
     "output_type": "execute_result"
    }
   ],
   "source": [
    "location.head(2)"
   ]
  },
  {
   "cell_type": "code",
   "execution_count": 86,
   "metadata": {},
   "outputs": [],
   "source": [
    "chart = top_issu.iloc[:,[0,-4,-3,-2,-1]].copy()"
   ]
  },
  {
   "cell_type": "code",
   "execution_count": 87,
   "metadata": {},
   "outputs": [
    {
     "data": {
      "text/html": [
       "<div>\n",
       "<style scoped>\n",
       "    .dataframe tbody tr th:only-of-type {\n",
       "        vertical-align: middle;\n",
       "    }\n",
       "\n",
       "    .dataframe tbody tr th {\n",
       "        vertical-align: top;\n",
       "    }\n",
       "\n",
       "    .dataframe thead th {\n",
       "        text-align: right;\n",
       "    }\n",
       "</style>\n",
       "<table border=\"1\" class=\"dataframe\">\n",
       "  <thead>\n",
       "    <tr style=\"text-align: right;\">\n",
       "      <th>Issue</th>\n",
       "      <th>State</th>\n",
       "      <th>TopIss</th>\n",
       "      <th>Max</th>\n",
       "      <th>totCompl</th>\n",
       "      <th>MaxPerc</th>\n",
       "    </tr>\n",
       "  </thead>\n",
       "  <tbody>\n",
       "    <tr>\n",
       "      <th>0</th>\n",
       "      <td>CA</td>\n",
       "      <td>Trouble during payment process</td>\n",
       "      <td>1497.0</td>\n",
       "      <td>3628</td>\n",
       "      <td>41.262404</td>\n",
       "    </tr>\n",
       "    <tr>\n",
       "      <th>1</th>\n",
       "      <td>FL</td>\n",
       "      <td>Trouble during payment process</td>\n",
       "      <td>1236.0</td>\n",
       "      <td>2442</td>\n",
       "      <td>50.614251</td>\n",
       "    </tr>\n",
       "    <tr>\n",
       "      <th>2</th>\n",
       "      <td>TX</td>\n",
       "      <td>Trouble during payment process</td>\n",
       "      <td>767.0</td>\n",
       "      <td>1621</td>\n",
       "      <td>47.316471</td>\n",
       "    </tr>\n",
       "    <tr>\n",
       "      <th>3</th>\n",
       "      <td>NY</td>\n",
       "      <td>Trouble during payment process</td>\n",
       "      <td>645.0</td>\n",
       "      <td>1526</td>\n",
       "      <td>42.267366</td>\n",
       "    </tr>\n",
       "    <tr>\n",
       "      <th>4</th>\n",
       "      <td>NJ</td>\n",
       "      <td>Trouble during payment process</td>\n",
       "      <td>558.0</td>\n",
       "      <td>1189</td>\n",
       "      <td>46.930193</td>\n",
       "    </tr>\n",
       "  </tbody>\n",
       "</table>\n",
       "</div>"
      ],
      "text/plain": [
       "Issue State                          TopIss     Max  totCompl    MaxPerc\n",
       "0        CA  Trouble during payment process  1497.0      3628  41.262404\n",
       "1        FL  Trouble during payment process  1236.0      2442  50.614251\n",
       "2        TX  Trouble during payment process   767.0      1621  47.316471\n",
       "3        NY  Trouble during payment process   645.0      1526  42.267366\n",
       "4        NJ  Trouble during payment process   558.0      1189  46.930193"
      ]
     },
     "execution_count": 87,
     "metadata": {},
     "output_type": "execute_result"
    }
   ],
   "source": [
    "chart.head()"
   ]
  },
  {
   "cell_type": "code",
   "execution_count": 88,
   "metadata": {},
   "outputs": [],
   "source": [
    "# add new column - top location\n",
    "dict_toploc = dict(location[['State','Toploc']].values)\n",
    "chart['toploc'] = chart.State.map(dict_toploc)"
   ]
  },
  {
   "cell_type": "code",
   "execution_count": 99,
   "metadata": {},
   "outputs": [],
   "source": [
    "# Grab US states for chart\n",
    "chart_geo = chart.iloc[:52,:].copy()"
   ]
  },
  {
   "cell_type": "code",
   "execution_count": 100,
   "metadata": {},
   "outputs": [],
   "source": [
    "# need to remove Puerto Rico\n",
    "chart_geo_50 = chart_geo[chart_geo['State'] != 'PR'].copy()"
   ]
  },
  {
   "cell_type": "code",
   "execution_count": 101,
   "metadata": {},
   "outputs": [
    {
     "name": "stdout",
     "output_type": "stream",
     "text": [
      "<class 'pandas.core.frame.DataFrame'>\n",
      "Int64Index: 51 entries, 0 to 51\n",
      "Data columns (total 6 columns):\n",
      "State       51 non-null object\n",
      "TopIss      51 non-null object\n",
      "Max         51 non-null float64\n",
      "totCompl    51 non-null int64\n",
      "MaxPerc     51 non-null float64\n",
      "toploc      51 non-null object\n",
      "dtypes: float64(2), int64(1), object(3)\n",
      "memory usage: 2.8+ KB\n"
     ]
    }
   ],
   "source": [
    "chart_geo_50.info()"
   ]
  },
  {
   "cell_type": "code",
   "execution_count": 102,
   "metadata": {},
   "outputs": [
    {
     "data": {
      "text/html": [
       "<div>\n",
       "<style scoped>\n",
       "    .dataframe tbody tr th:only-of-type {\n",
       "        vertical-align: middle;\n",
       "    }\n",
       "\n",
       "    .dataframe tbody tr th {\n",
       "        vertical-align: top;\n",
       "    }\n",
       "\n",
       "    .dataframe thead th {\n",
       "        text-align: right;\n",
       "    }\n",
       "</style>\n",
       "<table border=\"1\" class=\"dataframe\">\n",
       "  <thead>\n",
       "    <tr style=\"text-align: right;\">\n",
       "      <th>Issue</th>\n",
       "      <th>State</th>\n",
       "      <th>TopIss</th>\n",
       "      <th>Max</th>\n",
       "      <th>totCompl</th>\n",
       "      <th>MaxPerc</th>\n",
       "      <th>toploc</th>\n",
       "    </tr>\n",
       "  </thead>\n",
       "  <tbody>\n",
       "    <tr>\n",
       "      <th>0</th>\n",
       "      <td>CA</td>\n",
       "      <td>Trouble during payment process</td>\n",
       "      <td>1497.0</td>\n",
       "      <td>3628</td>\n",
       "      <td>41.3</td>\n",
       "      <td>OAKLAND CA 945</td>\n",
       "    </tr>\n",
       "    <tr>\n",
       "      <th>1</th>\n",
       "      <td>FL</td>\n",
       "      <td>Trouble during payment process</td>\n",
       "      <td>1236.0</td>\n",
       "      <td>2442</td>\n",
       "      <td>50.6</td>\n",
       "      <td>SOUTH FLORIDA FL 330</td>\n",
       "    </tr>\n",
       "    <tr>\n",
       "      <th>2</th>\n",
       "      <td>TX</td>\n",
       "      <td>Trouble during payment process</td>\n",
       "      <td>767.0</td>\n",
       "      <td>1621</td>\n",
       "      <td>47.3</td>\n",
       "      <td>NORTH TEXAS TX 750</td>\n",
       "    </tr>\n",
       "    <tr>\n",
       "      <th>3</th>\n",
       "      <td>NY</td>\n",
       "      <td>Trouble during payment process</td>\n",
       "      <td>645.0</td>\n",
       "      <td>1526</td>\n",
       "      <td>42.3</td>\n",
       "      <td>MID-ISLAND NY 117</td>\n",
       "    </tr>\n",
       "    <tr>\n",
       "      <th>4</th>\n",
       "      <td>NJ</td>\n",
       "      <td>Trouble during payment process</td>\n",
       "      <td>558.0</td>\n",
       "      <td>1189</td>\n",
       "      <td>46.9</td>\n",
       "      <td>SOUTH JERSEY NJ 080</td>\n",
       "    </tr>\n",
       "  </tbody>\n",
       "</table>\n",
       "</div>"
      ],
      "text/plain": [
       "Issue State                          TopIss    Max  totCompl  MaxPerc  \\\n",
       "0        CA  Trouble during payment process 1497.0      3628     41.3   \n",
       "1        FL  Trouble during payment process 1236.0      2442     50.6   \n",
       "2        TX  Trouble during payment process  767.0      1621     47.3   \n",
       "3        NY  Trouble during payment process  645.0      1526     42.3   \n",
       "4        NJ  Trouble during payment process  558.0      1189     46.9   \n",
       "\n",
       "Issue                toploc  \n",
       "0            OAKLAND CA 945  \n",
       "1      SOUTH FLORIDA FL 330  \n",
       "2        NORTH TEXAS TX 750  \n",
       "3         MID-ISLAND NY 117  \n",
       "4       SOUTH JERSEY NJ 080  "
      ]
     },
     "execution_count": 102,
     "metadata": {},
     "output_type": "execute_result"
    }
   ],
   "source": [
    "pd.options.display.float_format = '{:.1f}'.format\n",
    "chart_geo_50.head()"
   ]
  },
  {
   "cell_type": "code",
   "execution_count": 103,
   "metadata": {},
   "outputs": [],
   "source": [
    "# create string %\n",
    "chart_geo_50['chperc'] = chart_geo_50['MaxPerc'].apply(lambda x: '{0:.1f}%'.format(x))"
   ]
  },
  {
   "cell_type": "code",
   "execution_count": 104,
   "metadata": {},
   "outputs": [
    {
     "data": {
      "text/html": [
       "<div>\n",
       "<style scoped>\n",
       "    .dataframe tbody tr th:only-of-type {\n",
       "        vertical-align: middle;\n",
       "    }\n",
       "\n",
       "    .dataframe tbody tr th {\n",
       "        vertical-align: top;\n",
       "    }\n",
       "\n",
       "    .dataframe thead th {\n",
       "        text-align: right;\n",
       "    }\n",
       "</style>\n",
       "<table border=\"1\" class=\"dataframe\">\n",
       "  <thead>\n",
       "    <tr style=\"text-align: right;\">\n",
       "      <th>Issue</th>\n",
       "      <th>State</th>\n",
       "      <th>TopIss</th>\n",
       "      <th>Max</th>\n",
       "      <th>totCompl</th>\n",
       "      <th>MaxPerc</th>\n",
       "      <th>toploc</th>\n",
       "      <th>chperc</th>\n",
       "    </tr>\n",
       "  </thead>\n",
       "  <tbody>\n",
       "    <tr>\n",
       "      <th>0</th>\n",
       "      <td>CA</td>\n",
       "      <td>Trouble during payment process</td>\n",
       "      <td>1497.0</td>\n",
       "      <td>3628</td>\n",
       "      <td>41.3</td>\n",
       "      <td>OAKLAND CA 945</td>\n",
       "      <td>41.3%</td>\n",
       "    </tr>\n",
       "    <tr>\n",
       "      <th>1</th>\n",
       "      <td>FL</td>\n",
       "      <td>Trouble during payment process</td>\n",
       "      <td>1236.0</td>\n",
       "      <td>2442</td>\n",
       "      <td>50.6</td>\n",
       "      <td>SOUTH FLORIDA FL 330</td>\n",
       "      <td>50.6%</td>\n",
       "    </tr>\n",
       "    <tr>\n",
       "      <th>2</th>\n",
       "      <td>TX</td>\n",
       "      <td>Trouble during payment process</td>\n",
       "      <td>767.0</td>\n",
       "      <td>1621</td>\n",
       "      <td>47.3</td>\n",
       "      <td>NORTH TEXAS TX 750</td>\n",
       "      <td>47.3%</td>\n",
       "    </tr>\n",
       "    <tr>\n",
       "      <th>3</th>\n",
       "      <td>NY</td>\n",
       "      <td>Trouble during payment process</td>\n",
       "      <td>645.0</td>\n",
       "      <td>1526</td>\n",
       "      <td>42.3</td>\n",
       "      <td>MID-ISLAND NY 117</td>\n",
       "      <td>42.3%</td>\n",
       "    </tr>\n",
       "    <tr>\n",
       "      <th>4</th>\n",
       "      <td>NJ</td>\n",
       "      <td>Trouble during payment process</td>\n",
       "      <td>558.0</td>\n",
       "      <td>1189</td>\n",
       "      <td>46.9</td>\n",
       "      <td>SOUTH JERSEY NJ 080</td>\n",
       "      <td>46.9%</td>\n",
       "    </tr>\n",
       "  </tbody>\n",
       "</table>\n",
       "</div>"
      ],
      "text/plain": [
       "Issue State                          TopIss    Max  totCompl  MaxPerc  \\\n",
       "0        CA  Trouble during payment process 1497.0      3628     41.3   \n",
       "1        FL  Trouble during payment process 1236.0      2442     50.6   \n",
       "2        TX  Trouble during payment process  767.0      1621     47.3   \n",
       "3        NY  Trouble during payment process  645.0      1526     42.3   \n",
       "4        NJ  Trouble during payment process  558.0      1189     46.9   \n",
       "\n",
       "Issue                toploc chperc  \n",
       "0            OAKLAND CA 945  41.3%  \n",
       "1      SOUTH FLORIDA FL 330  50.6%  \n",
       "2        NORTH TEXAS TX 750  47.3%  \n",
       "3         MID-ISLAND NY 117  42.3%  \n",
       "4       SOUTH JERSEY NJ 080  46.9%  "
      ]
     },
     "execution_count": 104,
     "metadata": {},
     "output_type": "execute_result"
    }
   ],
   "source": [
    "chart_geo_50.head()"
   ]
  },
  {
   "cell_type": "code",
   "execution_count": 105,
   "metadata": {},
   "outputs": [],
   "source": [
    "# create column for text in each state\n",
    "chart_geo_50['text'] = chart_geo_50.iloc[:,1] + ', '+ chart_geo_50.iloc[:,-1]+', '+ chart_geo_50.iloc[:,-2] \n"
   ]
  },
  {
   "cell_type": "code",
   "execution_count": 106,
   "metadata": {},
   "outputs": [],
   "source": [
    "# rename columns for clarity\n",
    "chart_geo_50.rename(columns={'TopIss': 'Top Issue', 'totCompl': 'Total Complaints'}, inplace=True)"
   ]
  },
  {
   "cell_type": "code",
   "execution_count": 107,
   "metadata": {},
   "outputs": [
    {
     "data": {
      "text/html": [
       "<div>\n",
       "<style scoped>\n",
       "    .dataframe tbody tr th:only-of-type {\n",
       "        vertical-align: middle;\n",
       "    }\n",
       "\n",
       "    .dataframe tbody tr th {\n",
       "        vertical-align: top;\n",
       "    }\n",
       "\n",
       "    .dataframe thead th {\n",
       "        text-align: right;\n",
       "    }\n",
       "</style>\n",
       "<table border=\"1\" class=\"dataframe\">\n",
       "  <thead>\n",
       "    <tr style=\"text-align: right;\">\n",
       "      <th>Issue</th>\n",
       "      <th>State</th>\n",
       "      <th>Top Issue</th>\n",
       "      <th>Max</th>\n",
       "      <th>Total Complaints</th>\n",
       "      <th>MaxPerc</th>\n",
       "      <th>toploc</th>\n",
       "      <th>chperc</th>\n",
       "      <th>text</th>\n",
       "    </tr>\n",
       "  </thead>\n",
       "  <tbody>\n",
       "    <tr>\n",
       "      <th>0</th>\n",
       "      <td>CA</td>\n",
       "      <td>Trouble during payment process</td>\n",
       "      <td>1497.0</td>\n",
       "      <td>3628</td>\n",
       "      <td>41.3</td>\n",
       "      <td>OAKLAND CA 945</td>\n",
       "      <td>41.3%</td>\n",
       "      <td>Trouble during payment process, 41.3%, OAKLAND...</td>\n",
       "    </tr>\n",
       "    <tr>\n",
       "      <th>1</th>\n",
       "      <td>FL</td>\n",
       "      <td>Trouble during payment process</td>\n",
       "      <td>1236.0</td>\n",
       "      <td>2442</td>\n",
       "      <td>50.6</td>\n",
       "      <td>SOUTH FLORIDA FL 330</td>\n",
       "      <td>50.6%</td>\n",
       "      <td>Trouble during payment process, 50.6%, SOUTH F...</td>\n",
       "    </tr>\n",
       "    <tr>\n",
       "      <th>2</th>\n",
       "      <td>TX</td>\n",
       "      <td>Trouble during payment process</td>\n",
       "      <td>767.0</td>\n",
       "      <td>1621</td>\n",
       "      <td>47.3</td>\n",
       "      <td>NORTH TEXAS TX 750</td>\n",
       "      <td>47.3%</td>\n",
       "      <td>Trouble during payment process, 47.3%, NORTH T...</td>\n",
       "    </tr>\n",
       "    <tr>\n",
       "      <th>3</th>\n",
       "      <td>NY</td>\n",
       "      <td>Trouble during payment process</td>\n",
       "      <td>645.0</td>\n",
       "      <td>1526</td>\n",
       "      <td>42.3</td>\n",
       "      <td>MID-ISLAND NY 117</td>\n",
       "      <td>42.3%</td>\n",
       "      <td>Trouble during payment process, 42.3%, MID-ISL...</td>\n",
       "    </tr>\n",
       "    <tr>\n",
       "      <th>4</th>\n",
       "      <td>NJ</td>\n",
       "      <td>Trouble during payment process</td>\n",
       "      <td>558.0</td>\n",
       "      <td>1189</td>\n",
       "      <td>46.9</td>\n",
       "      <td>SOUTH JERSEY NJ 080</td>\n",
       "      <td>46.9%</td>\n",
       "      <td>Trouble during payment process, 46.9%, SOUTH J...</td>\n",
       "    </tr>\n",
       "  </tbody>\n",
       "</table>\n",
       "</div>"
      ],
      "text/plain": [
       "Issue State                       Top Issue    Max  Total Complaints  MaxPerc  \\\n",
       "0        CA  Trouble during payment process 1497.0              3628     41.3   \n",
       "1        FL  Trouble during payment process 1236.0              2442     50.6   \n",
       "2        TX  Trouble during payment process  767.0              1621     47.3   \n",
       "3        NY  Trouble during payment process  645.0              1526     42.3   \n",
       "4        NJ  Trouble during payment process  558.0              1189     46.9   \n",
       "\n",
       "Issue                toploc chperc  \\\n",
       "0            OAKLAND CA 945  41.3%   \n",
       "1      SOUTH FLORIDA FL 330  50.6%   \n",
       "2        NORTH TEXAS TX 750  47.3%   \n",
       "3         MID-ISLAND NY 117  42.3%   \n",
       "4       SOUTH JERSEY NJ 080  46.9%   \n",
       "\n",
       "Issue                                               text  \n",
       "0      Trouble during payment process, 41.3%, OAKLAND...  \n",
       "1      Trouble during payment process, 50.6%, SOUTH F...  \n",
       "2      Trouble during payment process, 47.3%, NORTH T...  \n",
       "3      Trouble during payment process, 42.3%, MID-ISL...  \n",
       "4      Trouble during payment process, 46.9%, SOUTH J...  "
      ]
     },
     "execution_count": 107,
     "metadata": {},
     "output_type": "execute_result"
    }
   ],
   "source": [
    "chart_geo_50.head()"
   ]
  },
  {
   "cell_type": "code",
   "execution_count": 108,
   "metadata": {},
   "outputs": [],
   "source": [
    "import plotly.plotly as py\n",
    "import plotly.graph_objs as go \n",
    "from plotly.offline import download_plotlyjs, init_notebook_mode, plot, iplot"
   ]
  },
  {
   "cell_type": "code",
   "execution_count": 109,
   "metadata": {},
   "outputs": [
    {
     "data": {
      "text/html": [
       "<script type=\"text/javascript\">window.PlotlyConfig = {MathJaxConfig: 'local'};</script><script type=\"text/javascript\">if (window.MathJax) {MathJax.Hub.Config({SVG: {font: \"STIX-Web\"}});}</script><script>requirejs.config({paths: { 'plotly': ['https://cdn.plot.ly/plotly-latest.min']},});if(!window._Plotly) {require(['plotly'],function(plotly) {window._Plotly=plotly;});}</script>"
      ],
      "text/vnd.plotly.v1+html": [
       "<script type=\"text/javascript\">window.PlotlyConfig = {MathJaxConfig: 'local'};</script><script type=\"text/javascript\">if (window.MathJax) {MathJax.Hub.Config({SVG: {font: \"STIX-Web\"}});}</script><script>requirejs.config({paths: { 'plotly': ['https://cdn.plot.ly/plotly-latest.min']},});if(!window._Plotly) {require(['plotly'],function(plotly) {window._Plotly=plotly;});}</script>"
      ]
     },
     "metadata": {},
     "output_type": "display_data"
    }
   ],
   "source": [
    "init_notebook_mode(connected=True) "
   ]
  },
  {
   "cell_type": "markdown",
   "metadata": {},
   "source": [
    "# Create the Choropleth Map"
   ]
  },
  {
   "cell_type": "code",
   "execution_count": 110,
   "metadata": {},
   "outputs": [],
   "source": [
    "data = dict(type='choropleth',\n",
    "            colorscale = 'Viridis',\n",
    "            reversescale = True,\n",
    "            locations = chart_geo_50['State'],\n",
    "            z = chart_geo_50['Total Complaints'],\n",
    "            locationmode = 'USA-states',\n",
    "            text = chart_geo_50['text'],\n",
    "            marker = dict(line = dict(color = 'rgb(255,255,255)',width = 1)),\n",
    "            colorbar = {'title':\"Total Mortgage Product Complaints\"}\n",
    "            ) "
   ]
  },
  {
   "cell_type": "code",
   "execution_count": 111,
   "metadata": {},
   "outputs": [],
   "source": [
    "layout = dict(title = 'CFPB Total Mortgage Product Complaints by State in 2018',\n",
    "              geo = dict(scope='usa',\n",
    "                         showlakes = True,\n",
    "                         lakecolor = 'rgb(85,173,240)')\n",
    "             )"
   ]
  },
  {
   "cell_type": "code",
   "execution_count": 112,
   "metadata": {},
   "outputs": [
    {
     "data": {
      "application/vnd.plotly.v1+json": {
       "config": {
        "linkText": "Export to plot.ly",
        "plotlyServerURL": "https://plot.ly",
        "showLink": true
       },
       "data": [
        {
         "colorbar": {
          "title": {
           "text": "Total Mortgage Product Complaints"
          }
         },
         "colorscale": "Viridis",
         "locationmode": "USA-states",
         "locations": [
          "CA",
          "FL",
          "TX",
          "NY",
          "NJ",
          "GA",
          "PA",
          "MD",
          "IL",
          "VA",
          "NC",
          "MA",
          "WA",
          "OH",
          "AZ",
          "MI",
          "CO",
          "TN",
          "CT",
          "SC",
          "MO",
          "LA",
          "NV",
          "IN",
          "OR",
          "MN",
          "WI",
          "AL",
          "OK",
          "UT",
          "DE",
          "KY",
          "MS",
          "DC",
          "NH",
          "IA",
          "NM",
          "AR",
          "RI",
          "KS",
          "HI",
          "ME",
          "ID",
          "NE",
          "MT",
          "WV",
          "VT",
          "AK",
          "WY",
          "SD",
          "ND"
         ],
         "marker": {
          "line": {
           "color": "rgb(255,255,255)",
           "width": 1
          }
         },
         "reversescale": true,
         "text": [
          "Trouble during payment process, 41.3%, OAKLAND CA 945",
          "Trouble during payment process, 50.6%, SOUTH FLORIDA FL 330",
          "Trouble during payment process, 47.3%, NORTH TEXAS TX 750",
          "Trouble during payment process, 42.3%, MID-ISLAND NY 117",
          "Trouble during payment process, 46.9%, SOUTH JERSEY NJ 080",
          "Struggling to pay mortgage, 41.6%, NORTH METRO GA 300",
          "Trouble during payment process, 47.7%, PHILADELPHIA PA 191U",
          "Trouble during payment process, 45.6%, SOUTHERN MD MD 207",
          "Trouble during payment process, 46.0%, CHICAGO IL 606U",
          "Trouble during payment process, 46.5%, DULLES VA 201",
          "Trouble during payment process, 46.2%, CHARLOTTE NC 282U",
          "Struggling to pay mortgage, 50.8%, BOSTON MA 021U",
          "Trouble during payment process, 44.9%, SEATTLE WA 980",
          "Trouble during payment process, 54.3%, CLEVELAND OH 441U",
          "Trouble during payment process, 46.7%, PHOENIX AZ 852",
          "Trouble during payment process, 51.4%, DETROIT MI 481",
          "Trouble during payment process, 50.1%, DENVER CO 801",
          "Struggling to pay mortgage, 39.9%, MEMPHIS TN 381U",
          "Trouble during payment process, 50.1%, SOUTHERN CT 064",
          "Trouble during payment process, 56.0%, CHARLESTON SC 294",
          "Trouble during payment process, 44.9%, ST LOUIS MO 631U",
          "Trouble during payment process, 48.0%, NEW ORLEANS LA 700",
          "Trouble during payment process, 50.7%, LAS VEGAS NV 891U",
          "Trouble during payment process, 42.1%, GARY IN 463",
          "Trouble during payment process, 55.1%, PORTLAND OR 972U",
          "Trouble during payment process, 57.1%, MINNEAPOLIS MN 554U",
          "Trouble during payment process, 50.7%, MILWAUKEE WI 532U",
          "Trouble during payment process, 49.1%, MOBILE AL 365",
          "Trouble during payment process, 43.0%, OKLAHOMA CITY OK 731U",
          "Trouble during payment process, 51.5%, SALT LAKE CTY UT 840",
          "Trouble during payment process, 51.9%, WILMINGTON DE 197",
          "Trouble during payment process, 55.6%, LOUISVILLE KY 402U",
          "Struggling to pay mortgage, 44.0%, MEMPHIS TN 386",
          "Trouble during payment process, 47.2%, WASHINGTON DC 200U",
          "Trouble during payment process, 50.0%, PORTSMOUTH NH 038",
          "Trouble during payment process, 52.1%, DES MOINES IA 503U",
          "Trouble during payment process, 52.1%, ALBUQUERQUE NM 871U",
          "Trouble during payment process, 55.9%, NW ARKANSAS AR 727",
          "Struggling to pay mortgage, 54.2%, PROVIDENCE RI 028",
          "Trouble during payment process, 57.8%, KANSAS CITY KS 660",
          "Trouble during payment process, 49.3%, HONOLULU HI 967",
          "Trouble during payment process, 45.6%, PORTLAND ME 040",
          "Trouble during payment process, 62.1%, BOISE ID 836",
          "Trouble during payment process, 57.4%, OMAHA NE 681U",
          "Trouble during payment process, 63.4%, BUTTE MT 597",
          "Trouble during payment process, 59.0%, MARTINSBURG WV 254",
          "Trouble during payment process, 50.0%, BURLINGTON VT 054",
          "Struggling to pay mortgage, 38.2%, ANCHORAGE AK 995",
          "Trouble during payment process, 50.0%, CASPER WY 826",
          "Trouble during payment process, 66.7%, SIOUX FALLS SD 571U",
          "Trouble during payment process, 60.0%, BISMARCK ND 585"
         ],
         "type": "choropleth",
         "uid": "88626290-be63-40f9-a732-d3d16c29940b",
         "z": [
          3628,
          2442,
          1621,
          1526,
          1189,
          1178,
          870,
          825,
          803,
          752,
          664,
          577,
          555,
          536,
          456,
          426,
          423,
          388,
          357,
          336,
          316,
          298,
          274,
          247,
          245,
          238,
          227,
          224,
          142,
          130,
          129,
          117,
          116,
          108,
          108,
          94,
          94,
          93,
          83,
          83,
          75,
          68,
          66,
          61,
          41,
          39,
          38,
          34,
          28,
          21,
          15
         ]
        }
       ],
       "layout": {
        "geo": {
         "lakecolor": "rgb(85,173,240)",
         "scope": "usa",
         "showlakes": true
        },
        "title": {
         "text": "CFPB Total Mortgage Product Complaints by State in 2018"
        }
       }
      },
      "text/html": [
       "<div id=\"6b6302eb-6294-47b7-b1f2-ace98f4afb2f\" style=\"height: 525px; width: 100%;\" class=\"plotly-graph-div\"></div><script type=\"text/javascript\">require([\"plotly\"], function(Plotly) { window.PLOTLYENV=window.PLOTLYENV || {};window.PLOTLYENV.BASE_URL=\"https://plot.ly\";Plotly.newPlot(\"6b6302eb-6294-47b7-b1f2-ace98f4afb2f\", [{\"colorbar\": {\"title\": {\"text\": \"Total Mortgage Product Complaints\"}}, \"colorscale\": \"Viridis\", \"locationmode\": \"USA-states\", \"locations\": [\"CA\", \"FL\", \"TX\", \"NY\", \"NJ\", \"GA\", \"PA\", \"MD\", \"IL\", \"VA\", \"NC\", \"MA\", \"WA\", \"OH\", \"AZ\", \"MI\", \"CO\", \"TN\", \"CT\", \"SC\", \"MO\", \"LA\", \"NV\", \"IN\", \"OR\", \"MN\", \"WI\", \"AL\", \"OK\", \"UT\", \"DE\", \"KY\", \"MS\", \"DC\", \"NH\", \"IA\", \"NM\", \"AR\", \"RI\", \"KS\", \"HI\", \"ME\", \"ID\", \"NE\", \"MT\", \"WV\", \"VT\", \"AK\", \"WY\", \"SD\", \"ND\"], \"marker\": {\"line\": {\"color\": \"rgb(255,255,255)\", \"width\": 1}}, \"reversescale\": true, \"text\": [\"Trouble during payment process, 41.3%, OAKLAND CA 945\", \"Trouble during payment process, 50.6%, SOUTH FLORIDA FL 330\", \"Trouble during payment process, 47.3%, NORTH TEXAS TX 750\", \"Trouble during payment process, 42.3%, MID-ISLAND NY 117\", \"Trouble during payment process, 46.9%, SOUTH JERSEY NJ 080\", \"Struggling to pay mortgage, 41.6%, NORTH METRO GA 300\", \"Trouble during payment process, 47.7%, PHILADELPHIA PA 191U\", \"Trouble during payment process, 45.6%, SOUTHERN MD MD 207\", \"Trouble during payment process, 46.0%, CHICAGO IL 606U\", \"Trouble during payment process, 46.5%, DULLES VA 201\", \"Trouble during payment process, 46.2%, CHARLOTTE NC 282U\", \"Struggling to pay mortgage, 50.8%, BOSTON MA 021U\", \"Trouble during payment process, 44.9%, SEATTLE WA 980\", \"Trouble during payment process, 54.3%, CLEVELAND OH 441U\", \"Trouble during payment process, 46.7%, PHOENIX AZ 852\", \"Trouble during payment process, 51.4%, DETROIT MI 481\", \"Trouble during payment process, 50.1%, DENVER CO 801\", \"Struggling to pay mortgage, 39.9%, MEMPHIS TN 381U\", \"Trouble during payment process, 50.1%, SOUTHERN CT 064\", \"Trouble during payment process, 56.0%, CHARLESTON SC 294\", \"Trouble during payment process, 44.9%, ST LOUIS MO 631U\", \"Trouble during payment process, 48.0%, NEW ORLEANS LA 700\", \"Trouble during payment process, 50.7%, LAS VEGAS NV 891U\", \"Trouble during payment process, 42.1%, GARY IN 463\", \"Trouble during payment process, 55.1%, PORTLAND OR 972U\", \"Trouble during payment process, 57.1%, MINNEAPOLIS MN 554U\", \"Trouble during payment process, 50.7%, MILWAUKEE WI 532U\", \"Trouble during payment process, 49.1%, MOBILE AL 365\", \"Trouble during payment process, 43.0%, OKLAHOMA CITY OK 731U\", \"Trouble during payment process, 51.5%, SALT LAKE CTY UT 840\", \"Trouble during payment process, 51.9%, WILMINGTON DE 197\", \"Trouble during payment process, 55.6%, LOUISVILLE KY 402U\", \"Struggling to pay mortgage, 44.0%, MEMPHIS TN 386\", \"Trouble during payment process, 47.2%, WASHINGTON DC 200U\", \"Trouble during payment process, 50.0%, PORTSMOUTH NH 038\", \"Trouble during payment process, 52.1%, DES MOINES IA 503U\", \"Trouble during payment process, 52.1%, ALBUQUERQUE NM 871U\", \"Trouble during payment process, 55.9%, NW ARKANSAS AR 727\", \"Struggling to pay mortgage, 54.2%, PROVIDENCE RI 028\", \"Trouble during payment process, 57.8%, KANSAS CITY KS 660\", \"Trouble during payment process, 49.3%, HONOLULU HI 967\", \"Trouble during payment process, 45.6%, PORTLAND ME 040\", \"Trouble during payment process, 62.1%, BOISE ID 836\", \"Trouble during payment process, 57.4%, OMAHA NE 681U\", \"Trouble during payment process, 63.4%, BUTTE MT 597\", \"Trouble during payment process, 59.0%, MARTINSBURG WV 254\", \"Trouble during payment process, 50.0%, BURLINGTON VT 054\", \"Struggling to pay mortgage, 38.2%, ANCHORAGE AK 995\", \"Trouble during payment process, 50.0%, CASPER WY 826\", \"Trouble during payment process, 66.7%, SIOUX FALLS SD 571U\", \"Trouble during payment process, 60.0%, BISMARCK ND 585\"], \"z\": [3628, 2442, 1621, 1526, 1189, 1178, 870, 825, 803, 752, 664, 577, 555, 536, 456, 426, 423, 388, 357, 336, 316, 298, 274, 247, 245, 238, 227, 224, 142, 130, 129, 117, 116, 108, 108, 94, 94, 93, 83, 83, 75, 68, 66, 61, 41, 39, 38, 34, 28, 21, 15], \"type\": \"choropleth\", \"uid\": \"88626290-be63-40f9-a732-d3d16c29940b\"}], {\"geo\": {\"lakecolor\": \"rgb(85,173,240)\", \"scope\": \"usa\", \"showlakes\": true}, \"title\": {\"text\": \"CFPB Total Mortgage Product Complaints by State in 2018\"}}, {\"showLink\": true, \"linkText\": \"Export to plot.ly\", \"plotlyServerURL\": \"https://plot.ly\"})});</script><script type=\"text/javascript\">window.addEventListener(\"resize\", function(){window._Plotly.Plots.resize(document.getElementById(\"6b6302eb-6294-47b7-b1f2-ace98f4afb2f\"));});</script>"
      ],
      "text/vnd.plotly.v1+html": [
       "<div id=\"6b6302eb-6294-47b7-b1f2-ace98f4afb2f\" style=\"height: 525px; width: 100%;\" class=\"plotly-graph-div\"></div><script type=\"text/javascript\">require([\"plotly\"], function(Plotly) { window.PLOTLYENV=window.PLOTLYENV || {};window.PLOTLYENV.BASE_URL=\"https://plot.ly\";Plotly.newPlot(\"6b6302eb-6294-47b7-b1f2-ace98f4afb2f\", [{\"colorbar\": {\"title\": {\"text\": \"Total Mortgage Product Complaints\"}}, \"colorscale\": \"Viridis\", \"locationmode\": \"USA-states\", \"locations\": [\"CA\", \"FL\", \"TX\", \"NY\", \"NJ\", \"GA\", \"PA\", \"MD\", \"IL\", \"VA\", \"NC\", \"MA\", \"WA\", \"OH\", \"AZ\", \"MI\", \"CO\", \"TN\", \"CT\", \"SC\", \"MO\", \"LA\", \"NV\", \"IN\", \"OR\", \"MN\", \"WI\", \"AL\", \"OK\", \"UT\", \"DE\", \"KY\", \"MS\", \"DC\", \"NH\", \"IA\", \"NM\", \"AR\", \"RI\", \"KS\", \"HI\", \"ME\", \"ID\", \"NE\", \"MT\", \"WV\", \"VT\", \"AK\", \"WY\", \"SD\", \"ND\"], \"marker\": {\"line\": {\"color\": \"rgb(255,255,255)\", \"width\": 1}}, \"reversescale\": true, \"text\": [\"Trouble during payment process, 41.3%, OAKLAND CA 945\", \"Trouble during payment process, 50.6%, SOUTH FLORIDA FL 330\", \"Trouble during payment process, 47.3%, NORTH TEXAS TX 750\", \"Trouble during payment process, 42.3%, MID-ISLAND NY 117\", \"Trouble during payment process, 46.9%, SOUTH JERSEY NJ 080\", \"Struggling to pay mortgage, 41.6%, NORTH METRO GA 300\", \"Trouble during payment process, 47.7%, PHILADELPHIA PA 191U\", \"Trouble during payment process, 45.6%, SOUTHERN MD MD 207\", \"Trouble during payment process, 46.0%, CHICAGO IL 606U\", \"Trouble during payment process, 46.5%, DULLES VA 201\", \"Trouble during payment process, 46.2%, CHARLOTTE NC 282U\", \"Struggling to pay mortgage, 50.8%, BOSTON MA 021U\", \"Trouble during payment process, 44.9%, SEATTLE WA 980\", \"Trouble during payment process, 54.3%, CLEVELAND OH 441U\", \"Trouble during payment process, 46.7%, PHOENIX AZ 852\", \"Trouble during payment process, 51.4%, DETROIT MI 481\", \"Trouble during payment process, 50.1%, DENVER CO 801\", \"Struggling to pay mortgage, 39.9%, MEMPHIS TN 381U\", \"Trouble during payment process, 50.1%, SOUTHERN CT 064\", \"Trouble during payment process, 56.0%, CHARLESTON SC 294\", \"Trouble during payment process, 44.9%, ST LOUIS MO 631U\", \"Trouble during payment process, 48.0%, NEW ORLEANS LA 700\", \"Trouble during payment process, 50.7%, LAS VEGAS NV 891U\", \"Trouble during payment process, 42.1%, GARY IN 463\", \"Trouble during payment process, 55.1%, PORTLAND OR 972U\", \"Trouble during payment process, 57.1%, MINNEAPOLIS MN 554U\", \"Trouble during payment process, 50.7%, MILWAUKEE WI 532U\", \"Trouble during payment process, 49.1%, MOBILE AL 365\", \"Trouble during payment process, 43.0%, OKLAHOMA CITY OK 731U\", \"Trouble during payment process, 51.5%, SALT LAKE CTY UT 840\", \"Trouble during payment process, 51.9%, WILMINGTON DE 197\", \"Trouble during payment process, 55.6%, LOUISVILLE KY 402U\", \"Struggling to pay mortgage, 44.0%, MEMPHIS TN 386\", \"Trouble during payment process, 47.2%, WASHINGTON DC 200U\", \"Trouble during payment process, 50.0%, PORTSMOUTH NH 038\", \"Trouble during payment process, 52.1%, DES MOINES IA 503U\", \"Trouble during payment process, 52.1%, ALBUQUERQUE NM 871U\", \"Trouble during payment process, 55.9%, NW ARKANSAS AR 727\", \"Struggling to pay mortgage, 54.2%, PROVIDENCE RI 028\", \"Trouble during payment process, 57.8%, KANSAS CITY KS 660\", \"Trouble during payment process, 49.3%, HONOLULU HI 967\", \"Trouble during payment process, 45.6%, PORTLAND ME 040\", \"Trouble during payment process, 62.1%, BOISE ID 836\", \"Trouble during payment process, 57.4%, OMAHA NE 681U\", \"Trouble during payment process, 63.4%, BUTTE MT 597\", \"Trouble during payment process, 59.0%, MARTINSBURG WV 254\", \"Trouble during payment process, 50.0%, BURLINGTON VT 054\", \"Struggling to pay mortgage, 38.2%, ANCHORAGE AK 995\", \"Trouble during payment process, 50.0%, CASPER WY 826\", \"Trouble during payment process, 66.7%, SIOUX FALLS SD 571U\", \"Trouble during payment process, 60.0%, BISMARCK ND 585\"], \"z\": [3628, 2442, 1621, 1526, 1189, 1178, 870, 825, 803, 752, 664, 577, 555, 536, 456, 426, 423, 388, 357, 336, 316, 298, 274, 247, 245, 238, 227, 224, 142, 130, 129, 117, 116, 108, 108, 94, 94, 93, 83, 83, 75, 68, 66, 61, 41, 39, 38, 34, 28, 21, 15], \"type\": \"choropleth\", \"uid\": \"88626290-be63-40f9-a732-d3d16c29940b\"}], {\"geo\": {\"lakecolor\": \"rgb(85,173,240)\", \"scope\": \"usa\", \"showlakes\": true}, \"title\": {\"text\": \"CFPB Total Mortgage Product Complaints by State in 2018\"}}, {\"showLink\": true, \"linkText\": \"Export to plot.ly\", \"plotlyServerURL\": \"https://plot.ly\"})});</script><script type=\"text/javascript\">window.addEventListener(\"resize\", function(){window._Plotly.Plots.resize(document.getElementById(\"6b6302eb-6294-47b7-b1f2-ace98f4afb2f\"));});</script>"
      ]
     },
     "metadata": {},
     "output_type": "display_data"
    }
   ],
   "source": [
    "choromap = go.Figure(data = [data],layout = layout)\n",
    "#plot(choromap,validate=False)\n",
    "iplot(choromap,show_link=True)"
   ]
  },
  {
   "cell_type": "markdown",
   "metadata": {},
   "source": [
    "# BUBBLE CHART"
   ]
  },
  {
   "cell_type": "code",
   "execution_count": 113,
   "metadata": {},
   "outputs": [],
   "source": [
    "mort_loc = df_mort.groupby(['loc']).agg({'Complaint ID': pd.Series.nunique})"
   ]
  },
  {
   "cell_type": "code",
   "execution_count": 114,
   "metadata": {},
   "outputs": [
    {
     "data": {
      "text/html": [
       "<div>\n",
       "<style scoped>\n",
       "    .dataframe tbody tr th:only-of-type {\n",
       "        vertical-align: middle;\n",
       "    }\n",
       "\n",
       "    .dataframe tbody tr th {\n",
       "        vertical-align: top;\n",
       "    }\n",
       "\n",
       "    .dataframe thead th {\n",
       "        text-align: right;\n",
       "    }\n",
       "</style>\n",
       "<table border=\"1\" class=\"dataframe\">\n",
       "  <thead>\n",
       "    <tr style=\"text-align: right;\">\n",
       "      <th></th>\n",
       "      <th>Complaint ID</th>\n",
       "    </tr>\n",
       "    <tr>\n",
       "      <th>loc</th>\n",
       "      <th></th>\n",
       "    </tr>\n",
       "  </thead>\n",
       "  <tbody>\n",
       "    <tr>\n",
       "      <th>ABILENE TX 768</th>\n",
       "      <td>1</td>\n",
       "    </tr>\n",
       "    <tr>\n",
       "      <th>ABILENE TX 796U</th>\n",
       "      <td>3</td>\n",
       "    </tr>\n",
       "    <tr>\n",
       "      <th>AKRON OH 442</th>\n",
       "      <td>33</td>\n",
       "    </tr>\n",
       "    <tr>\n",
       "      <th>AKRON OH 443U</th>\n",
       "      <td>18</td>\n",
       "    </tr>\n",
       "    <tr>\n",
       "      <th>ALAMOGORDO NM 883</th>\n",
       "      <td>1</td>\n",
       "    </tr>\n",
       "  </tbody>\n",
       "</table>\n",
       "</div>"
      ],
      "text/plain": [
       "                   Complaint ID\n",
       "loc                            \n",
       "ABILENE TX 768                1\n",
       "ABILENE TX 796U               3\n",
       "AKRON OH 442                 33\n",
       "AKRON OH 443U                18\n",
       "ALAMOGORDO NM 883             1"
      ]
     },
     "execution_count": 114,
     "metadata": {},
     "output_type": "execute_result"
    }
   ],
   "source": [
    "# dataframe with loc and mortgage complaints counts\n",
    "mort_loc.head()"
   ]
  },
  {
   "cell_type": "code",
   "execution_count": 115,
   "metadata": {},
   "outputs": [],
   "source": [
    "# Sort values and rank\n",
    "mort_loc.sort_values(by='Complaint ID',ascending=False, inplace=True)\n",
    "mort_loc['Rank'] = mort_loc['Complaint ID'].rank(ascending=False)"
   ]
  },
  {
   "cell_type": "code",
   "execution_count": 116,
   "metadata": {},
   "outputs": [
    {
     "data": {
      "text/html": [
       "<div>\n",
       "<style scoped>\n",
       "    .dataframe tbody tr th:only-of-type {\n",
       "        vertical-align: middle;\n",
       "    }\n",
       "\n",
       "    .dataframe tbody tr th {\n",
       "        vertical-align: top;\n",
       "    }\n",
       "\n",
       "    .dataframe thead th {\n",
       "        text-align: right;\n",
       "    }\n",
       "</style>\n",
       "<table border=\"1\" class=\"dataframe\">\n",
       "  <thead>\n",
       "    <tr style=\"text-align: right;\">\n",
       "      <th></th>\n",
       "      <th># of Complaints</th>\n",
       "      <th>Rank</th>\n",
       "    </tr>\n",
       "    <tr>\n",
       "      <th>loc</th>\n",
       "      <th></th>\n",
       "      <th></th>\n",
       "    </tr>\n",
       "  </thead>\n",
       "  <tbody>\n",
       "    <tr>\n",
       "      <th>NORTH METRO GA 300</th>\n",
       "      <td>424</td>\n",
       "      <td>1.0</td>\n",
       "    </tr>\n",
       "    <tr>\n",
       "      <th>SOUTH FLORIDA FL 330</th>\n",
       "      <td>286</td>\n",
       "      <td>2.0</td>\n",
       "    </tr>\n",
       "    <tr>\n",
       "      <th>MIAMI FL 331U</th>\n",
       "      <td>280</td>\n",
       "      <td>3.0</td>\n",
       "    </tr>\n",
       "    <tr>\n",
       "      <th>OAKLAND CA 945</th>\n",
       "      <td>279</td>\n",
       "      <td>4.0</td>\n",
       "    </tr>\n",
       "    <tr>\n",
       "      <th>SOUTHERN MD MD 207</th>\n",
       "      <td>261</td>\n",
       "      <td>5.0</td>\n",
       "    </tr>\n",
       "  </tbody>\n",
       "</table>\n",
       "</div>"
      ],
      "text/plain": [
       "                      # of Complaints  Rank\n",
       "loc                                        \n",
       "NORTH METRO GA 300                424   1.0\n",
       "SOUTH FLORIDA FL 330              286   2.0\n",
       "MIAMI FL 331U                     280   3.0\n",
       "OAKLAND CA 945                    279   4.0\n",
       "SOUTHERN MD MD 207                261   5.0"
      ]
     },
     "execution_count": 116,
     "metadata": {},
     "output_type": "execute_result"
    }
   ],
   "source": [
    "mort_loc.rename(columns={'Complaint ID': '# of Complaints'}, inplace=True)\n",
    "mort_loc.head()"
   ]
  },
  {
   "cell_type": "code",
   "execution_count": 117,
   "metadata": {},
   "outputs": [],
   "source": [
    "# reset index so loc is a column\n",
    "mort_loc.reset_index(inplace=True)"
   ]
  },
  {
   "cell_type": "code",
   "execution_count": 118,
   "metadata": {},
   "outputs": [],
   "source": [
    "# create the dataframe to calc % of complaints: Struggling to pay mortgage\n",
    "mort_trou = df_mort[df_mort['Issue'] == 'Struggling to pay mortgage'\n",
    "                 ].groupby(['loc']).agg({'Complaint ID': pd.Series.nunique})"
   ]
  },
  {
   "cell_type": "code",
   "execution_count": 119,
   "metadata": {},
   "outputs": [],
   "source": [
    "# rename columns, sort values, reset index\n",
    "mort_trou.rename(columns={'Complaint ID': 'StrugToPay'}, inplace=True)\n",
    "mort_trou.sort_values(by='StrugToPay',ascending=False, inplace=True)\n",
    "mort_trou.reset_index(inplace=True)"
   ]
  },
  {
   "cell_type": "code",
   "execution_count": 120,
   "metadata": {},
   "outputs": [],
   "source": [
    "# merge data frames \n",
    "new_df = pd.merge(mort_loc,mort_trou,how='left',on='loc')"
   ]
  },
  {
   "cell_type": "code",
   "execution_count": 121,
   "metadata": {},
   "outputs": [
    {
     "data": {
      "text/html": [
       "<div>\n",
       "<style scoped>\n",
       "    .dataframe tbody tr th:only-of-type {\n",
       "        vertical-align: middle;\n",
       "    }\n",
       "\n",
       "    .dataframe tbody tr th {\n",
       "        vertical-align: top;\n",
       "    }\n",
       "\n",
       "    .dataframe thead th {\n",
       "        text-align: right;\n",
       "    }\n",
       "</style>\n",
       "<table border=\"1\" class=\"dataframe\">\n",
       "  <thead>\n",
       "    <tr style=\"text-align: right;\">\n",
       "      <th></th>\n",
       "      <th>loc</th>\n",
       "      <th># of Complaints</th>\n",
       "      <th>Rank</th>\n",
       "      <th>StrugToPay</th>\n",
       "    </tr>\n",
       "  </thead>\n",
       "  <tbody>\n",
       "    <tr>\n",
       "      <th>0</th>\n",
       "      <td>NORTH METRO GA 300</td>\n",
       "      <td>424</td>\n",
       "      <td>1.0</td>\n",
       "      <td>194.0</td>\n",
       "    </tr>\n",
       "    <tr>\n",
       "      <th>1</th>\n",
       "      <td>SOUTH FLORIDA FL 330</td>\n",
       "      <td>286</td>\n",
       "      <td>2.0</td>\n",
       "      <td>100.0</td>\n",
       "    </tr>\n",
       "    <tr>\n",
       "      <th>2</th>\n",
       "      <td>MIAMI FL 331U</td>\n",
       "      <td>280</td>\n",
       "      <td>3.0</td>\n",
       "      <td>84.0</td>\n",
       "    </tr>\n",
       "    <tr>\n",
       "      <th>3</th>\n",
       "      <td>OAKLAND CA 945</td>\n",
       "      <td>279</td>\n",
       "      <td>4.0</td>\n",
       "      <td>104.0</td>\n",
       "    </tr>\n",
       "    <tr>\n",
       "      <th>4</th>\n",
       "      <td>SOUTHERN MD MD 207</td>\n",
       "      <td>261</td>\n",
       "      <td>5.0</td>\n",
       "      <td>113.0</td>\n",
       "    </tr>\n",
       "  </tbody>\n",
       "</table>\n",
       "</div>"
      ],
      "text/plain": [
       "                    loc  # of Complaints  Rank  StrugToPay\n",
       "0    NORTH METRO GA 300              424   1.0       194.0\n",
       "1  SOUTH FLORIDA FL 330              286   2.0       100.0\n",
       "2         MIAMI FL 331U              280   3.0        84.0\n",
       "3        OAKLAND CA 945              279   4.0       104.0\n",
       "4    SOUTHERN MD MD 207              261   5.0       113.0"
      ]
     },
     "execution_count": 121,
     "metadata": {},
     "output_type": "execute_result"
    }
   ],
   "source": [
    "new_df.head()"
   ]
  },
  {
   "cell_type": "code",
   "execution_count": 122,
   "metadata": {},
   "outputs": [],
   "source": [
    "# create new column and format for chart\n",
    "new_df['StrugPay%'] = new_df['StrugToPay'] / new_df['# of Complaints'] * 100\n",
    "pd.options.display.float_format = '{:.1f}'.format"
   ]
  },
  {
   "cell_type": "code",
   "execution_count": 123,
   "metadata": {},
   "outputs": [],
   "source": [
    "# change rank column to integers\n",
    "new_df.Rank = new_df.Rank.astype(int)"
   ]
  },
  {
   "cell_type": "code",
   "execution_count": 124,
   "metadata": {},
   "outputs": [],
   "source": [
    "# only need top 15 for chart\n",
    "new_15 = new_df.iloc[:15,:].set_index('loc')"
   ]
  },
  {
   "cell_type": "code",
   "execution_count": 125,
   "metadata": {},
   "outputs": [
    {
     "data": {
      "text/html": [
       "<div>\n",
       "<style scoped>\n",
       "    .dataframe tbody tr th:only-of-type {\n",
       "        vertical-align: middle;\n",
       "    }\n",
       "\n",
       "    .dataframe tbody tr th {\n",
       "        vertical-align: top;\n",
       "    }\n",
       "\n",
       "    .dataframe thead th {\n",
       "        text-align: right;\n",
       "    }\n",
       "</style>\n",
       "<table border=\"1\" class=\"dataframe\">\n",
       "  <thead>\n",
       "    <tr style=\"text-align: right;\">\n",
       "      <th></th>\n",
       "      <th># of Complaints</th>\n",
       "      <th>Rank</th>\n",
       "      <th>StrugToPay</th>\n",
       "      <th>StrugPay%</th>\n",
       "    </tr>\n",
       "    <tr>\n",
       "      <th>loc</th>\n",
       "      <th></th>\n",
       "      <th></th>\n",
       "      <th></th>\n",
       "      <th></th>\n",
       "    </tr>\n",
       "  </thead>\n",
       "  <tbody>\n",
       "    <tr>\n",
       "      <th>NORTH METRO GA 300</th>\n",
       "      <td>424</td>\n",
       "      <td>1</td>\n",
       "      <td>194.0</td>\n",
       "      <td>45.8</td>\n",
       "    </tr>\n",
       "    <tr>\n",
       "      <th>SOUTH FLORIDA FL 330</th>\n",
       "      <td>286</td>\n",
       "      <td>2</td>\n",
       "      <td>100.0</td>\n",
       "      <td>35.0</td>\n",
       "    </tr>\n",
       "    <tr>\n",
       "      <th>MIAMI FL 331U</th>\n",
       "      <td>280</td>\n",
       "      <td>3</td>\n",
       "      <td>84.0</td>\n",
       "      <td>30.0</td>\n",
       "    </tr>\n",
       "    <tr>\n",
       "      <th>OAKLAND CA 945</th>\n",
       "      <td>279</td>\n",
       "      <td>4</td>\n",
       "      <td>104.0</td>\n",
       "      <td>37.3</td>\n",
       "    </tr>\n",
       "    <tr>\n",
       "      <th>SOUTHERN MD MD 207</th>\n",
       "      <td>261</td>\n",
       "      <td>5</td>\n",
       "      <td>113.0</td>\n",
       "      <td>43.3</td>\n",
       "    </tr>\n",
       "    <tr>\n",
       "      <th>NORTH TEXAS TX 750</th>\n",
       "      <td>223</td>\n",
       "      <td>6</td>\n",
       "      <td>64.0</td>\n",
       "      <td>28.7</td>\n",
       "    </tr>\n",
       "    <tr>\n",
       "      <th>SANTA ANA CA 926</th>\n",
       "      <td>222</td>\n",
       "      <td>7</td>\n",
       "      <td>108.0</td>\n",
       "      <td>48.6</td>\n",
       "    </tr>\n",
       "    <tr>\n",
       "      <th>WEST PALM BCH FL 334</th>\n",
       "      <td>205</td>\n",
       "      <td>8</td>\n",
       "      <td>49.0</td>\n",
       "      <td>23.9</td>\n",
       "    </tr>\n",
       "    <tr>\n",
       "      <th>CHICAGO IL 606U</th>\n",
       "      <td>196</td>\n",
       "      <td>9</td>\n",
       "      <td>60.0</td>\n",
       "      <td>30.6</td>\n",
       "    </tr>\n",
       "    <tr>\n",
       "      <th>VAN NUYS CA 913</th>\n",
       "      <td>194</td>\n",
       "      <td>10</td>\n",
       "      <td>84.0</td>\n",
       "      <td>43.3</td>\n",
       "    </tr>\n",
       "    <tr>\n",
       "      <th>MID-ISLAND NY 117</th>\n",
       "      <td>190</td>\n",
       "      <td>11</td>\n",
       "      <td>89.0</td>\n",
       "      <td>46.8</td>\n",
       "    </tr>\n",
       "    <tr>\n",
       "      <th>HOUSTON TX 770U</th>\n",
       "      <td>185</td>\n",
       "      <td>12</td>\n",
       "      <td>49.0</td>\n",
       "      <td>26.5</td>\n",
       "    </tr>\n",
       "    <tr>\n",
       "      <th>SOUTH JERSEY NJ 080</th>\n",
       "      <td>179</td>\n",
       "      <td>13</td>\n",
       "      <td>74.0</td>\n",
       "      <td>41.3</td>\n",
       "    </tr>\n",
       "    <tr>\n",
       "      <th>INDUSTRY CA 917</th>\n",
       "      <td>177</td>\n",
       "      <td>14</td>\n",
       "      <td>69.0</td>\n",
       "      <td>39.0</td>\n",
       "    </tr>\n",
       "    <tr>\n",
       "      <th>LOS ANGELES CA 900U</th>\n",
       "      <td>175</td>\n",
       "      <td>15</td>\n",
       "      <td>72.0</td>\n",
       "      <td>41.1</td>\n",
       "    </tr>\n",
       "  </tbody>\n",
       "</table>\n",
       "</div>"
      ],
      "text/plain": [
       "                      # of Complaints  Rank  StrugToPay  StrugPay%\n",
       "loc                                                               \n",
       "NORTH METRO GA 300                424     1       194.0       45.8\n",
       "SOUTH FLORIDA FL 330              286     2       100.0       35.0\n",
       "MIAMI FL 331U                     280     3        84.0       30.0\n",
       "OAKLAND CA 945                    279     4       104.0       37.3\n",
       "SOUTHERN MD MD 207                261     5       113.0       43.3\n",
       "NORTH TEXAS TX 750                223     6        64.0       28.7\n",
       "SANTA ANA CA 926                  222     7       108.0       48.6\n",
       "WEST PALM BCH FL 334              205     8        49.0       23.9\n",
       "CHICAGO IL 606U                   196     9        60.0       30.6\n",
       "VAN NUYS CA 913                   194    10        84.0       43.3\n",
       "MID-ISLAND NY 117                 190    11        89.0       46.8\n",
       "HOUSTON TX 770U                   185    12        49.0       26.5\n",
       "SOUTH JERSEY NJ 080               179    13        74.0       41.3\n",
       "INDUSTRY CA 917                   177    14        69.0       39.0\n",
       "LOS ANGELES CA 900U               175    15        72.0       41.1"
      ]
     },
     "execution_count": 125,
     "metadata": {},
     "output_type": "execute_result"
    }
   ],
   "source": [
    "new_15"
   ]
  },
  {
   "cell_type": "code",
   "execution_count": 126,
   "metadata": {},
   "outputs": [
    {
     "name": "stdout",
     "output_type": "stream",
     "text": [
      "Rank is by # of Total Mortgage product complaints. Y-axis is the % of those complaints which had issue: Struggling to pay mortgage\n"
     ]
    },
    {
     "data": {
      "image/png": "[encoded data removed]",
      "text/plain": [
       "<Figure size 1152x432 with 1 Axes>"
      ]
     },
     "metadata": {
      "needs_background": "light"
     },
     "output_type": "display_data"
    }
   ],
   "source": [
    "# bubble chart\n",
    "Top15 = new_15\n",
    "#fig, ax = plt.subplots()\n",
    "ax = Top15.plot(x='Rank', y='StrugPay%', kind='scatter',\n",
    "                c=['#e41a1c','#377eb8','#e41a1c','#4daf4a','#4daf4a','#377eb8','#4daf4a','#e41a1c',\n",
    "                   '#4daf4a','#e41a1c','#4daf4a','#4daf4a','#e41a1c','#dede00','#ff7f00'],\n",
    "                xticks=range(1,16), s=(5*Top15['# of Complaints']/100)**3, alpha=.75, figsize=[16,6]);\n",
    "for i, txt in enumerate(Top15.index):\n",
    "    ax.annotate(txt, [Top15['Rank'][i], Top15['StrugPay%'][i]], ha='center')\n",
    "plt.savefig('bubble.jpg',bbox_inches=\"tight\")\n",
    "print(\"Rank is by # of Total Mortgage product complaints. Y-axis is the % of those complaints which had issue: Struggling to pay mortgage\")"
   ]
  },
  {
   "cell_type": "code",
   "execution_count": null,
   "metadata": {},
   "outputs": [],
   "source": []
  }
 ],
 "metadata": {
  "kernelspec": {
   "display_name": "Python 3",
   "language": "python",
   "name": "python3"
  },
  "language_info": {
   "codemirror_mode": {
    "name": "ipython",
    "version": 3
   },
   "file_extension": ".py",
   "mimetype": "text/x-python",
   "name": "python",
   "nbconvert_exporter": "python",
   "pygments_lexer": "ipython3",
   "version": "3.7.2"
  }
 },
 "nbformat": 4,
 "nbformat_minor": 2
}
